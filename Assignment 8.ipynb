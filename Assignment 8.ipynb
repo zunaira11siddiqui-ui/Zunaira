{
 "cells": [
  {
   "cell_type": "markdown",
   "id": "94b44a26-a3e1-40b6-a2f8-5288da630659",
   "metadata": {
    "id": "94b44a26-a3e1-40b6-a2f8-5288da630659"
   },
   "source": [
    "Q1. Write a Python function called add_numbers that takes two numbers as arguments and returns their sum. Then, test the function by calling it with two numbers of your choice.\n"
   ]
  },
  {
   "cell_type": "code",
   "execution_count": 3,
   "id": "RRFO0V4vUT9T",
   "metadata": {
    "colab": {
     "base_uri": "https://localhost:8080/"
    },
    "id": "RRFO0V4vUT9T",
    "outputId": "66f9e4df-71fb-4ff6-fb45-d043227a0221"
   },
   "outputs": [
    {
     "name": "stdout",
     "output_type": "stream",
     "text": [
      "16\n"
     ]
    }
   ],
   "source": [
    "def add_numbers(a, b):\n",
    "    return a + b\n",
    "\n",
    "print(add_numbers(6, 10))"
   ]
  },
  {
   "cell_type": "markdown",
   "id": "2df82858-cc42-45be-b4d8-a6d24073bb06",
   "metadata": {
    "id": "2df82858-cc42-45be-b4d8-a6d24073bb06"
   },
   "source": [
    "Q2. Write a Python function count_vowels that accepts a string and returns the number of vowels a, e, i, o, u, A, E, I, O, U in that string.\n",
    "\n",
    "- Example: 'Welcome'\n",
    "- Output: 3 vowels"
   ]
  },
  {
   "cell_type": "code",
   "execution_count": 14,
   "id": "CIUto6AsUawY",
   "metadata": {
    "colab": {
     "base_uri": "https://localhost:8080/"
    },
    "id": "CIUto6AsUawY",
    "outputId": "76d6ea69-6354-46a0-b4ce-382b5aa10ef4"
   },
   "outputs": [
    {
     "name": "stdout",
     "output_type": "stream",
     "text": [
      "1 vowels\n"
     ]
    }
   ],
   "source": [
    "def count_vowels(s):\n",
    "    vowels = \"aeiouAEIOU\"\n",
    "    return sum(1 for ch in s if ch in vowels)\n",
    "\n",
    "print(count_vowels(\"python\"),\"vowels\")"
   ]
  },
  {
   "cell_type": "markdown",
   "id": "14ada7c2-26ff-467b-9856-2bae9d7b673f",
   "metadata": {
    "id": "14ada7c2-26ff-467b-9856-2bae9d7b673f"
   },
   "source": [
    "Q3. Create a Python function called currency_converter() that takes two arguments:\n",
    "\n",
    "- amount: The amount of money to be converted (in USD).\n",
    "- exchange_rate (default is 280): The conversion rate from USD to another currency (e.g., PKR). You can assume the default rate is 1 USD = 280 PKR.\n",
    "-\n",
    "The function should return a message showing how much the given amount is worth in the target currency (PKR).\n",
    "\n",
    "Expected Output:\n",
    "\n",
    "'100 USD is equivalent to 28000 PKR'"
   ]
  },
  {
   "cell_type": "code",
   "execution_count": 16,
   "id": "vV-LOG76VClv",
   "metadata": {
    "colab": {
     "base_uri": "https://localhost:8080/"
    },
    "id": "vV-LOG76VClv",
    "outputId": "9c8d49b9-5b15-4912-947a-079b6b41fd82"
   },
   "outputs": [
    {
     "name": "stdout",
     "output_type": "stream",
     "text": [
      "100 USD is equivalent to 28000 PKR\n"
     ]
    }
   ],
   "source": [
    "def currency_converter(amount, exchange_rate=280):\n",
    "    return f\"{amount} USD is equivalent to {amount * exchange_rate} PKR\"\n",
    "\n",
    "print(currency_converter(100))"
   ]
  },
  {
   "cell_type": "markdown",
   "id": "2be859c9-23bb-4cff-abee-092295757847",
   "metadata": {
    "id": "2be859c9-23bb-4cff-abee-092295757847"
   },
   "source": [
    "Q4. Write a Python function display_student_info that accepts the following details about a student:\n",
    "\n",
    "- name (Keyword argument): The name of the student.\n",
    "- age (Keyword argument): The age of the student.\n",
    "- grade (Keyword argument): The grade the student is in.\n",
    "- school (Keyword argument): The name of the school the student attends.\n",
    "\n",
    "Expected Output:\n",
    "\n",
    "- Name: John Doe\n",
    "- Age: 15\n",
    "- Grade: 10th\n",
    "- School: Greenwood High"
   ]
  },
  {
   "cell_type": "code",
   "execution_count": 19,
   "id": "AwECgr_LVVws",
   "metadata": {
    "colab": {
     "base_uri": "https://localhost:8080/"
    },
    "id": "AwECgr_LVVws",
    "outputId": "c69ca07f-36d9-46c3-b666-22e63ede4adf"
   },
   "outputs": [
    {
     "name": "stdout",
     "output_type": "stream",
     "text": [
      "Name: Meena\n",
      "Age: 25\n",
      "Grade: 10\n",
      "College: Womens\n"
     ]
    }
   ],
   "source": [
    "def display_student_info(*, name, age, grade, college):\n",
    "    print(f\"Name: {name}\")\n",
    "    print(f\"Age: {age}\")\n",
    "    print(f\"Grade: {grade}\")\n",
    "    print(f\"College: {college}\")\n",
    "\n",
    "display_student_info(name=\"Meena\", age=25, grade=\"10\", college=\"Womens\")\n"
   ]
  },
  {
   "cell_type": "markdown",
   "id": "6fa029c5-095c-463f-b29d-ff8469cbdfea",
   "metadata": {
    "id": "6fa029c5-095c-463f-b29d-ff8469cbdfea"
   },
   "source": [
    "Q5. Write a Python function calculate_price that accepts two positional arguments:\n",
    "\n",
    "- price: The price of a single item.\n",
    "- quantity: The number of items bought.\n",
    "- The function should return the total price by multiplying price and quantity.\n"
   ]
  },
  {
   "cell_type": "code",
   "execution_count": 21,
   "id": "jyHloDX5WA1n",
   "metadata": {
    "colab": {
     "base_uri": "https://localhost:8080/"
    },
    "id": "jyHloDX5WA1n",
    "outputId": "875c41c7-4e33-49db-d853-6bad5785ed50"
   },
   "outputs": [
    {
     "name": "stdout",
     "output_type": "stream",
     "text": [
      "140\n"
     ]
    }
   ],
   "source": [
    "def calculate_price(price, quantity):\n",
    "    return price * quantity\n",
    "\n",
    "print(calculate_price(20, 7))"
   ]
  },
  {
   "cell_type": "markdown",
   "id": "b0952c84-56d3-478a-8772-ba5434fc4f2f",
   "metadata": {
    "id": "b0952c84-56d3-478a-8772-ba5434fc4f2f"
   },
   "source": [
    "Q6. Write a Python function display_prices that takes a product name and an arbitrary number of keyword arguments representing product prices. The function should display each product and its price.\n",
    "\n",
    "Expected Output:\n",
    "\n",
    "Product: Laptop\n",
    "\n",
    "Amazon: $800\n",
    "\n",
    "eBay: $750\n",
    "\n",
    "Walmart: $780"
   ]
  },
  {
   "cell_type": "code",
   "execution_count": 23,
   "id": "Hmc9fiQNWati",
   "metadata": {
    "colab": {
     "base_uri": "https://localhost:8080/"
    },
    "id": "Hmc9fiQNWati",
    "outputId": "2e8d191a-3905-44bb-a4de-c9fac34a4dd0"
   },
   "outputs": [
    {
     "name": "stdout",
     "output_type": "stream",
     "text": [
      "Product: bucket\n",
      "Daraz: $800\n",
      "Imtiaz: $750\n",
      "Chaseup: $780\n"
     ]
    }
   ],
   "source": [
    "def display_prices(product, **prices):\n",
    "    print(f\"Product: {product}\")\n",
    "    for store, price in prices.items():\n",
    "        print(f\"{store}: ${price}\")\n",
    "\n",
    "display_prices(\"bucket\", Daraz=800, Imtiaz=750, Chaseup=780)"
   ]
  },
  {
   "cell_type": "markdown",
   "id": "18d9013b-c0e4-4e14-82e7-6c0d03917322",
   "metadata": {
    "id": "18d9013b-c0e4-4e14-82e7-6c0d03917322"
   },
   "source": [
    "Q7. Write a Python function find_max that takes arbitrary number of positional arguments and returns the maximum number."
   ]
  },
  {
   "cell_type": "code",
   "execution_count": 24,
   "id": "FlQ7tJVNWo-3",
   "metadata": {
    "colab": {
     "base_uri": "https://localhost:8080/"
    },
    "id": "FlQ7tJVNWo-3",
    "outputId": "32091e6c-4356-4503-bc22-be5114abc28d"
   },
   "outputs": [
    {
     "name": "stdout",
     "output_type": "stream",
     "text": [
      "6\n"
     ]
    }
   ],
   "source": [
    "def find_max(*numbers):\n",
    "    return max(numbers)\n",
    "\n",
    "print(find_max(6, 0, 1, 4, 5))"
   ]
  },
  {
   "cell_type": "markdown",
   "id": "5d99ddf7-24ba-4bc6-87fe-7ccabcdebeb4",
   "metadata": {
    "id": "5d99ddf7-24ba-4bc6-87fe-7ccabcdebeb4"
   },
   "source": [
    "Q8.\n",
    "\n",
    "Write a Python function calculate_rectangle that accepts the length and width of a rectangle as arguments. Inside this function, create two nested functions:\n",
    "\n",
    "- calculate_area: This function should calculate the area of the rectangle.\n",
    "- calculate_perimeter: This function should calculate the perimeter of the rectangle.\n",
    "- The main function should return both the area and the perimeter of the rectangle.\n",
    "\n",
    "Expected Output:\n",
    "\n",
    "Area: 15\n",
    "\n",
    "Perimeter: 16\n"
   ]
  },
  {
   "cell_type": "code",
   "execution_count": 27,
   "id": "iCA3vqK_Xc6s",
   "metadata": {
    "colab": {
     "base_uri": "https://localhost:8080/"
    },
    "id": "iCA3vqK_Xc6s",
    "outputId": "5201c8e3-7f7d-4ca4-f532-132834cbac6b"
   },
   "outputs": [
    {
     "name": "stdout",
     "output_type": "stream",
     "text": [
      "Area: 21\n",
      "Perimeter: 20\n"
     ]
    }
   ],
   "source": [
    "def calculate_rectangle(length, width):\n",
    "    def calculate_area():\n",
    "        return length * width\n",
    "\n",
    "    def calculate_perimeter():\n",
    "        return 2 * (length + width)\n",
    "\n",
    "    return calculate_area(), calculate_perimeter()\n",
    "\n",
    "area, perimeter = calculate_rectangle(7, 3)\n",
    "print(\"Area:\", area)\n",
    "print(\"Perimeter:\", perimeter)"
   ]
  },
  {
   "cell_type": "markdown",
   "id": "a668489b-a207-48a6-904e-fb7c2859e04d",
   "metadata": {
    "id": "a668489b-a207-48a6-904e-fb7c2859e04d"
   },
   "source": [
    "Q9. Write a Python function taxi_fare(distance, rate=100) that calculates the taxi fare.\n",
    "The default rate is 100 PKR per km, but the user can also enter a custom rate.\n",
    "\n",
    "FORMULA: distance * rate\n",
    "\n",
    "Expected Output:\n",
    "\n",
    "- Taxi fare for 10 km = 1000 PKR (using default parameter)\n",
    "- Taxi fare for 15 km = 1800 PKR (custom rate)"
   ]
  },
  {
   "cell_type": "code",
   "execution_count": 29,
   "id": "KUgeOV_TXfdk",
   "metadata": {
    "colab": {
     "base_uri": "https://localhost:8080/"
    },
    "id": "KUgeOV_TXfdk",
    "outputId": "03c1f167-2463-4c27-ec6b-54a8abfd6d54"
   },
   "outputs": [
    {
     "name": "stdout",
     "output_type": "stream",
     "text": [
      "Taxi fare for 10 km = 400 PKR\n",
      "Taxi fare for 35 km = 2450 PKR\n"
     ]
    }
   ],
   "source": [
    "def taxi_fare(distance, rate=20):\n",
    "    return distance * rate\n",
    "\n",
    "print(\"Taxi fare for 10 km =\", taxi_fare(20), \"PKR\")\n",
    "print(\"Taxi fare for 35 km =\", taxi_fare(35, 70), \"PKR\")\n"
   ]
  },
  {
   "cell_type": "markdown",
   "id": "ed779581-c1bc-45a5-8971-687391e077a2",
   "metadata": {
    "id": "ed779581-c1bc-45a5-8971-687391e077a2"
   },
   "source": [
    "Q10.\n",
    "\n",
    "Write a Python function shopping_bill(price, quantity, discount=0) that uses nested functions:\n",
    "\n",
    "- An inner function calculate_total() → multiplies price * quantity.\n",
    "- An inner function apply_discount(total) → subtracts discount from total (but never below 0).\n",
    "\n",
    "The outer function should return the final bill amount.\n",
    "\n",
    "Expected Output:\n",
    "\n",
    "- Final Bill = 600 PKR (no discount)\n",
    "- Final Bill = 500 PKR (with discount)"
   ]
  },
  {
   "cell_type": "code",
   "execution_count": 32,
   "id": "ee0ac957-86e2-49bc-adc3-861ac984d055",
   "metadata": {
    "colab": {
     "base_uri": "https://localhost:8080/"
    },
    "id": "ee0ac957-86e2-49bc-adc3-861ac984d055",
    "outputId": "61556714-8be5-4a7f-adcd-3d94e2e0267c"
   },
   "outputs": [
    {
     "name": "stdout",
     "output_type": "stream",
     "text": [
      "Final Bill = 900 PKR\n",
      "Final Bill After Discount = 750 PKR\n"
     ]
    }
   ],
   "source": [
    "def shopping_bill(price, quantity, discount=0):\n",
    "    def calculate_total():\n",
    "        return price * quantity\n",
    "\n",
    "    def apply_discount(total):\n",
    "        return max(total - discount, 0)\n",
    "\n",
    "    return apply_discount(calculate_total())\n",
    "\n",
    "print(\"Final Bill =\", shopping_bill(300, 3), \"PKR\")\n",
    "print(\"Final Bill After Discount =\", shopping_bill(300, 3, 150), \"PKR\")"
   ]
  },
  {
   "cell_type": "code",
   "execution_count": null,
   "id": "52c10a22-bd39-4f29-9d47-76a9b0ad542e",
   "metadata": {},
   "outputs": [],
   "source": []
  }
 ],
 "metadata": {
  "colab": {
   "provenance": []
  },
  "kernelspec": {
   "display_name": "Python 3 (ipykernel)",
   "language": "python",
   "name": "python3"
  },
  "language_info": {
   "codemirror_mode": {
    "name": "ipython",
    "version": 3
   },
   "file_extension": ".py",
   "mimetype": "text/x-python",
   "name": "python",
   "nbconvert_exporter": "python",
   "pygments_lexer": "ipython3",
   "version": "3.12.7"
  }
 },
 "nbformat": 4,
 "nbformat_minor": 5
}
