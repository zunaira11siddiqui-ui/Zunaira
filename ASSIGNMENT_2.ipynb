{
 "cells": [
  {
   "cell_type": "code",
   "execution_count": 4,
   "id": "532982d1-6666-4450-a8fb-68d3798618a1",
   "metadata": {},
   "outputs": [
    {
     "name": "stdout",
     "output_type": "stream",
     "text": [
      "Sum of a & b : 19\n",
      "Difference of a & b : 11\n",
      "Product of a & b : 60\n",
      "Division of a & b : 3.75\n",
      "Floor Division of a & b:  3\n",
      "Modulus of a & b : 3\n"
     ]
    }
   ],
   "source": [
    "# QUESTION 1 \n",
    "a = 15\n",
    "b = 4\n",
    "print(\"Sum of a & b :\",a+b)\n",
    "print(\"Difference of a & b :\",a-b)\n",
    "print(\"Product of a & b :\",a*b)\n",
    "print(\"Division of a & b :\",a/b)\n",
    "print(\"Floor Division of a & b: \",a//b)\n",
    "print(\"Modulus of a & b :\",a%b)"
   ]
  },
  {
   "cell_type": "code",
   "execution_count": 1,
   "id": "cd2aa838-bf11-49d0-b8cb-2db52a0ba5db",
   "metadata": {},
   "outputs": [
    {
     "name": "stdout",
     "output_type": "stream",
     "text": [
      "Integer to float: 10.0\n",
      "Float to integer: 5\n",
      "Float to string: 4.43\n",
      "String to integer: 23\n"
     ]
    }
   ],
   "source": [
    "# QUESTION 2 \n",
    "num1 = 10\n",
    "num2 = 5.6\n",
    "num3 = 4.43\n",
    "num4 = '23'\n",
    "\n",
    "# Integer to float\n",
    "print(\"Integer to float:\", float(num1))\n",
    "\n",
    "# Float to integer\n",
    "print(\"Float to integer:\", int(num2))\n",
    "\n",
    "# Float to string\n",
    "print(\"Float to string:\", str(num3))\n",
    "\n",
    "# String to integer\n",
    "print(\"String to integer:\", int(num4))\n"
   ]
  },
  {
   "cell_type": "code",
   "execution_count": 2,
   "id": "ebe346f8-54b3-4744-a676-795ef1245a72",
   "metadata": {},
   "outputs": [
    {
     "name": "stdout",
     "output_type": "stream",
     "text": [
      "My favorite food is: PASTA\n"
     ]
    }
   ],
   "source": [
    "# QUESTION 3\n",
    "favorite_food = \"PASTA\"\n",
    "print(\"My favorite food is:\", favorite_food)"
   ]
  },
  {
   "cell_type": "code",
   "execution_count": 3,
   "id": "c40b191d-e663-46d9-b55d-1ecec8f17c36",
   "metadata": {},
   "outputs": [
    {
     "name": "stdout",
     "output_type": "stream",
     "text": [
      "Total fruits: 55\n"
     ]
    }
   ],
   "source": [
    "# QUESTION 4\n",
    "apple = '22' # Here apple is in string type, if we have to add it we must change its type to integer\n",
    "mangoes = 33\n",
    "\n",
    "total_fruits = int(apple) + mangoes\n",
    "print(\"Total fruits:\", total_fruits)\n"
   ]
  },
  {
   "cell_type": "code",
   "execution_count": 4,
   "id": "2c470ba2-fb32-40d7-8c65-a67da9d033a5",
   "metadata": {},
   "outputs": [
    {
     "name": "stdout",
     "output_type": "stream",
     "text": [
      "Name: Zunaira\n",
      "Final age: 23\n"
     ]
    }
   ],
   "source": [
    "# QUESTION 5\n",
    "name = \"Zunaira\"\n",
    "age = 22\n",
    "\n",
    "age = age + 1\n",
    "\n",
    "print(\"Name:\", name)\n",
    "print(\"Final age:\", age)"
   ]
  },
  {
   "cell_type": "code",
   "execution_count": 5,
   "id": "e5d5ab7f-9523-4fe9-b4e0-47283552442f",
   "metadata": {},
   "outputs": [
    {
     "name": "stdout",
     "output_type": "stream",
     "text": [
      "a + b = 3\n",
      "c - a = 4\n",
      "d * b = 3\n",
      "c / d = 2.0\n",
      "c % d = 0\n",
      "(d + a)^2 = 25\n"
     ]
    }
   ],
   "source": [
    "# QUESTION 6\n",
    "a = 2\n",
    "b = 1\n",
    "c = 6\n",
    "d = 3\n",
    "\n",
    "print(\"a + b =\", a + b)\n",
    "print(\"c - a =\", c - a)\n",
    "print(\"d * b =\", d * b)\n",
    "print(\"c / d =\", c / d)\n",
    "print(\"c % d =\", c % d)\n",
    "print(\"(d + a)^2 =\", (d + a) ** 2)\n"
   ]
  },
  {
   "cell_type": "code",
   "execution_count": 8,
   "id": "fb58cf0c-cb8c-40f6-86d7-eab250e009a1",
   "metadata": {},
   "outputs": [
    {
     "name": "stdout",
     "output_type": "stream",
     "text": [
      "a converted to int and added to c: 8.3\n",
      "b converted to float and multiplied by c: 69.3\n",
      "c converted to int and added to c: 12.3\n"
     ]
    }
   ],
   "source": [
    "# QUESTION 7\n",
    "a = '2'\n",
    "b = '11'\n",
    "c = 6.3\n",
    "\n",
    "# Convert a to integer and add to c\n",
    "a_int = int(a)\n",
    "result1 = a_int + c\n",
    "print(\"a converted to int and added to c:\", result1)\n",
    "\n",
    "# Convert b to float and multiply by c\n",
    "b_float = float(b)\n",
    "result2 = b_float * c\n",
    "print(\"b converted to float and multiplied by c:\", result2)\n",
    "\n",
    "# Convert c to integer and add to c\n",
    "c_int = int(c)\n",
    "result3 = c_int + c\n",
    "print(\"c converted to int and added to c:\", result3)\n"
   ]
  },
  {
   "cell_type": "code",
   "execution_count": 10,
   "id": "a411aec7-989c-4656-ab1c-d89d5ac86fc7",
   "metadata": {},
   "outputs": [
    {
     "name": "stdout",
     "output_type": "stream",
     "text": [
      "Your current age is: 25\n"
     ]
    }
   ],
   "source": [
    "# QUESTION 8\n",
    "# Q8: Age calculation\n",
    "\n",
    "# You were 20 years old in 2020\n",
    "age = 20\n",
    "\n",
    "# Add 5 more years\n",
    "Cur_age = age + 5\n",
    "\n",
    "# Print final age\n",
    "print(\"Your current age is:\", Cur_age)\n"
   ]
  },
  {
   "cell_type": "code",
   "execution_count": null,
   "id": "7b3d3714-24d4-4b53-a176-d28e8a59461c",
   "metadata": {},
   "outputs": [],
   "source": [
    "# QUESTION 9\n"
   ]
  },
  {
   "cell_type": "code",
   "execution_count": 7,
   "id": "e66619bb-ee7e-4239-9513-11746f3751ab",
   "metadata": {},
   "outputs": [
    {
     "name": "stdout",
     "output_type": "stream",
     "text": [
      "Cookies baked today: 15\n"
     ]
    }
   ],
   "source": [
    "# QUESTION 10\n",
    "cookies = 5\n",
    "cookies *= 3\n",
    "print(\"Cookies baked today:\", cookies)\n"
   ]
  },
  {
   "cell_type": "code",
   "execution_count": null,
   "id": "8309a8ba-d239-40fd-b500-642a56832d9a",
   "metadata": {},
   "outputs": [],
   "source": []
  }
 ],
 "metadata": {
  "kernelspec": {
   "display_name": "Python 3 (ipykernel)",
   "language": "python",
   "name": "python3"
  },
  "language_info": {
   "codemirror_mode": {
    "name": "ipython",
    "version": 3
   },
   "file_extension": ".py",
   "mimetype": "text/x-python",
   "name": "python",
   "nbconvert_exporter": "python",
   "pygments_lexer": "ipython3",
   "version": "3.12.7"
  }
 },
 "nbformat": 4,
 "nbformat_minor": 5
}
