{
 "cells": [
  {
   "cell_type": "code",
   "execution_count": 16,
   "id": "d3f61778-6d8c-4f47-9c35-da37a9f0be1c",
   "metadata": {},
   "outputs": [
    {
     "name": "stdout",
     "output_type": "stream",
     "text": [
      "hello_python_world\n",
      "['hello', 'python', 'world']\n"
     ]
    }
   ],
   "source": [
    "text = 'hello python world'\n",
    "\n",
    "# Replace spaces with underscores\n",
    "with_underscores = text.replace(' ', '_')\n",
    "\n",
    "# Split the modified string\n",
    "parts = with_underscores.split('_')\n",
    "\n",
    "print(with_underscores)   # hello_python_world\n",
    "print(parts)              # ['hello', 'python', 'world']\n"
   ]
  },
  {
   "cell_type": "code",
   "execution_count": 17,
   "id": "8f746f1c-9a02-42b7-9bde-634afa459c79",
   "metadata": {},
   "outputs": [
    {
     "name": "stdout",
     "output_type": "stream",
     "text": [
      "3\n",
      "2\n",
      "12345\n"
     ]
    }
   ],
   "source": [
    "product_code = \"SKU-12345-XYZ\"\n",
    "\n",
    "# First position of '-'\n",
    "first_dash_pos = product_code.find('-')\n",
    "\n",
    "# Count of '-'\n",
    "dash_count = product_code.count('-')\n",
    "\n",
    "# Extract numeric part (remove \"SKU-\" prefix and \"-XYZ\" suffix)\n",
    "start = product_code.find('-') + 1\n",
    "end = product_code.rfind('-')\n",
    "numeric_part = product_code[start:end]\n",
    "\n",
    "print(first_dash_pos)  # 3\n",
    "print(dash_count)      # 2\n",
    "print(numeric_part)    # 12345\n"
   ]
  },
  {
   "cell_type": "code",
   "execution_count": 18,
   "id": "41af8f02-a590-4abf-97f5-edc143ad648c",
   "metadata": {},
   "outputs": [
    {
     "name": "stdout",
     "output_type": "stream",
     "text": [
      "Hello World\n"
     ]
    }
   ],
   "source": [
    "text_1 = \"hello world\"\n",
    "\n",
    "# Title Case\n",
    "title_cased = text_1.title()\n",
    "\n",
    "print(title_cased)  # Hello World\n"
   ]
  },
  {
   "cell_type": "code",
   "execution_count": 19,
   "id": "fcdb0750-91b2-415c-911b-ca9215a0f4d2",
   "metadata": {},
   "outputs": [
    {
     "name": "stdout",
     "output_type": "stream",
     "text": [
      "Python programming\n"
     ]
    }
   ],
   "source": [
    "text_2 = \"python programming\"\n",
    "\n",
    "# Capitalize first letter\n",
    "capitalized = text_2.capitalize()\n",
    "\n",
    "print(capitalized)  # Python programming\n"
   ]
  },
  {
   "cell_type": "code",
   "execution_count": 20,
   "id": "bc3afdac-8111-4c3d-9e02-e528516ae86a",
   "metadata": {},
   "outputs": [
    {
     "name": "stdout",
     "output_type": "stream",
     "text": [
      "lEARNING pYTHON iS aWESOME\n"
     ]
    }
   ],
   "source": [
    "text1 = \"learning PYTHON is AWESOME\"\n",
    "\n",
    "# Each word starts with a capital letter\n",
    "step1 = text1.title()        # \"Learning Python Is Awesome\"\n",
    "\n",
    "# Swap the case of every letter\n",
    "final_text = step1.swapcase()\n",
    "\n",
    "print(final_text)  # lEARNING pYTHON iS aWESOME\n",
    "\n"
   ]
  },
  {
   "cell_type": "code",
   "execution_count": 21,
   "id": "c2bff365-2ff1-4011-b33c-ab6c31720e81",
   "metadata": {},
   "outputs": [
    {
     "name": "stdout",
     "output_type": "stream",
     "text": [
      "True\n",
      "False\n"
     ]
    }
   ],
   "source": [
    "text2 = \"HelloWorld123\"\n",
    "\n",
    "print(text2.isalnum())  # Is alphanumeric?\n",
    "print(text2.isalpha())  # Is alphabetic only?\n"
   ]
  },
  {
   "cell_type": "code",
   "execution_count": 22,
   "id": "e19ba49e-67fa-4c3f-b82a-e6564386089a",
   "metadata": {},
   "outputs": [
    {
     "name": "stdout",
     "output_type": "stream",
     "text": [
      "False\n",
      "True\n"
     ]
    }
   ],
   "source": [
    "text3 = \"helloworld\"\n",
    "\n",
    "print(text3.isdigit())  # Digits only?\n",
    "print(text3.islower())  # All lowercase?\n"
   ]
  },
  {
   "cell_type": "code",
   "execution_count": 23,
   "id": "6e84b03b-d1f6-41a4-8573-28a625486f04",
   "metadata": {},
   "outputs": [
    {
     "name": "stdout",
     "output_type": "stream",
     "text": [
      "False\n",
      "True\n"
     ]
    }
   ],
   "source": [
    "text4 = 'Hi We Are Learning Python'\n",
    "\n",
    "print(text4.isupper())  # All uppercase?\n",
    "print(text4.istitle())  # Titlecased?\n"
   ]
  },
  {
   "cell_type": "code",
   "execution_count": 24,
   "id": "13916e49-a2f8-446c-b123-42e26bafd4d4",
   "metadata": {},
   "outputs": [
    {
     "name": "stdout",
     "output_type": "stream",
     "text": [
      "True\n",
      "True\n"
     ]
    }
   ],
   "source": [
    "text5 = \"data_report_2023.csv\"\n",
    "\n",
    "print(text5.startswith(\"data\"))  # Starts with \"data\"?\n",
    "print(text5.endswith(\".csv\"))    # Ends with \".csv\"?\n"
   ]
  },
  {
   "cell_type": "code",
   "execution_count": 25,
   "id": "241c8fff-b12a-49d0-b375-18e5cd61dab5",
   "metadata": {},
   "outputs": [
    {
     "name": "stdout",
     "output_type": "stream",
     "text": [
      "2\n"
     ]
    }
   ],
   "source": [
    "fruit = \"banana bandana banana\"\n",
    "\n",
    "count_banana = fruit.count(\"banana\")  # non-overlapping\n",
    "print(count_banana)  # 2\n"
   ]
  },
  {
   "cell_type": "code",
   "execution_count": null,
   "id": "0c8ff90e-9b9a-404e-ae96-cb7ad7b477ee",
   "metadata": {},
   "outputs": [],
   "source": []
  }
 ],
 "metadata": {
  "kernelspec": {
   "display_name": "Python 3 (ipykernel)",
   "language": "python",
   "name": "python3"
  },
  "language_info": {
   "codemirror_mode": {
    "name": "ipython",
    "version": 3
   },
   "file_extension": ".py",
   "mimetype": "text/x-python",
   "name": "python",
   "nbconvert_exporter": "python",
   "pygments_lexer": "ipython3",
   "version": "3.12.7"
  }
 },
 "nbformat": 4,
 "nbformat_minor": 5
}
