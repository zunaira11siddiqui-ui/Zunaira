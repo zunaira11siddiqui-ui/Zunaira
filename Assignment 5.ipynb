{
 "cells": [
  {
   "cell_type": "code",
   "execution_count": 1,
   "id": "fe60c32f-32b6-4a21-9d59-283dc8065525",
   "metadata": {},
   "outputs": [
    {
     "name": "stdout",
     "output_type": "stream",
     "text": [
      "{101: {'name': 'Laptop', 'category': 'Electronics', 'price': 1200, 'stock': 50}, 102: {'name': 'Shirt', 'category': 'Apparel', 'price': 25, 'stock': 250}, 103: {'name': 'Coffee Maker', 'category': 'Home Appliances', 'price': 80, 'stock': 30}}\n",
      "{101: {'name': 'Laptop', 'category': 'Electronics', 'price': 1200, 'stock': 50}, 102: {'name': 'Shirt', 'category': 'Apparel', 'price': 25, 'stock': 250}, 103: {'name': 'Coffee Maker', 'category': 'Home Appliances', 'price': 80, 'stock': 30}, 104: {'name': 'Smartphone', 'category': 'Electronics', 'price': 800, 'stock': 100}}\n"
     ]
    }
   ],
   "source": [
    "products = {\n",
    "    101: {\"name\": \"Laptop\", \"category\": \"Electronics\", \"price\": 1200, \"stock\": 50},\n",
    "    102: {\"name\": \"Shirt\", \"category\": \"Apparel\", \"price\": 25, \"stock\": 200},\n",
    "    103: {\"name\": \"Coffee Maker\", \"category\": \"Home Appliances\", \"price\": 80, \"stock\": 30}\n",
    "}\n",
    "\n",
    "# Increase stock of Shirt\n",
    "products[102][\"stock\"] = products[102][\"stock\"] + 50\n",
    "print(products)\n",
    "\n",
    "# Add new product Smartphone\n",
    "products[104] = {\"name\": \"Smartphone\", \"category\": \"Electronics\", \"price\": 800, \"stock\": 100}\n",
    "print(products)\n"
   ]
  },
  {
   "cell_type": "code",
   "execution_count": 2,
   "id": "b6d1f3b5-5b40-49fb-9e60-b58a38ccb025",
   "metadata": {},
   "outputs": [
    {
     "name": "stdout",
     "output_type": "stream",
     "text": [
      "['banana', 'apple', 'orange', 'grape']\n"
     ]
    }
   ],
   "source": [
    "shopping_list = [\"apple\", \"banana\", \"apple\", \"orange\", \"banana\", \"grape\"]\n",
    "\n",
    "# Convert to set and back to list\n",
    "unique_items = list(set(shopping_list))\n",
    "print(unique_items)\n"
   ]
  },
  {
   "cell_type": "code",
   "execution_count": 3,
   "id": "0a6a01e6-6793-4e58-8893-49f6b09edf90",
   "metadata": {},
   "outputs": [
    {
     "name": "stdout",
     "output_type": "stream",
     "text": [
      "In Course A but not B: {'Bob', 'John'}\n",
      "Only in one course: {'Bob', 'John', 'Charlie', 'Eve'}\n"
     ]
    }
   ],
   "source": [
    "course_a = {\"John\", \"Alice\", \"Bob\", \"David\"}\n",
    "course_b = {\"Alice\", \"Eve\", \"Charlie\", \"David\"}\n",
    "\n",
    "# Difference\n",
    "only_in_a = course_a.difference(course_b)\n",
    "print(\"In Course A but not B:\", only_in_a)\n",
    "\n",
    "# Symmetric difference\n",
    "unique_students = course_a.symmetric_difference(course_b)\n",
    "print(\"Only in one course:\", unique_students)\n"
   ]
  },
  {
   "cell_type": "code",
   "execution_count": 4,
   "id": "ddf3c7b6-5f41-4e1b-9b31-ebcf8bd16e67",
   "metadata": {},
   "outputs": [
    {
     "name": "stdin",
     "output_type": "stream",
     "text": [
      "Enter book title:  zunaira\n",
      "Enter author's name:  Bint e \n",
      "Enter year of publication:  2024\n",
      "Enter price:  1000\n"
     ]
    },
    {
     "name": "stdout",
     "output_type": "stream",
     "text": [
      "Title: zunaira\n",
      "Author: Bint e \n",
      "Year of Publication: 2024\n",
      "Price: $ 1000.0\n"
     ]
    }
   ],
   "source": [
    "title = input(\"Enter book title: \")\n",
    "author = input(\"Enter author's name: \")\n",
    "year = int(input(\"Enter year of publication: \"))\n",
    "price = float(input(\"Enter price: \"))\n",
    "\n",
    "book = (title, author, year, price)\n",
    "\n",
    "print(\"Title:\", book[0])\n",
    "print(\"Author:\", book[1])\n",
    "print(\"Year of Publication:\", book[2])\n",
    "print(\"Price: $\", book[3])\n"
   ]
  },
  {
   "cell_type": "code",
   "execution_count": 5,
   "id": "0d98e4c7-6dbc-4e3b-a566-92712987a72b",
   "metadata": {},
   "outputs": [
    {
     "name": "stdin",
     "output_type": "stream",
     "text": [
      "Enter the subject you want:  english\n"
     ]
    },
    {
     "name": "stdout",
     "output_type": "stream",
     "text": [
      "english is available.\n"
     ]
    }
   ],
   "source": [
    "subjects = [\"math\", \"science\", \"history\", \"english\", \"art\"]\n",
    "\n",
    "choice = input(\"Enter the subject you want: \")\n",
    "\n",
    "if choice in subjects:\n",
    "    print(choice, \"is available.\")\n",
    "else:\n",
    "    print(choice, \"is not available.\")\n"
   ]
  },
  {
   "cell_type": "code",
   "execution_count": 6,
   "id": "30f92467-cd5f-4faf-b34e-0aab09922f66",
   "metadata": {},
   "outputs": [
    {
     "name": "stdin",
     "output_type": "stream",
     "text": [
      "Enter a number:  7\n"
     ]
    },
    {
     "name": "stdout",
     "output_type": "stream",
     "text": [
      "The number is Positive\n"
     ]
    }
   ],
   "source": [
    "num = int(input(\"Enter a number: \"))\n",
    "\n",
    "if num > 0:\n",
    "    print(\"The number is Positive\")\n",
    "elif num < 0:\n",
    "    print(\"The number is Negative\")\n",
    "else:\n",
    "    print(\"The number is Zero\")\n"
   ]
  },
  {
   "cell_type": "code",
   "execution_count": 7,
   "id": "4d53a9c1-eb55-4a51-9dd1-ba40e51e29e3",
   "metadata": {},
   "outputs": [
    {
     "name": "stdin",
     "output_type": "stream",
     "text": [
      "Enter username:  admin@123\n",
      "Enter password:  admin@12\n"
     ]
    },
    {
     "name": "stdout",
     "output_type": "stream",
     "text": [
      "Invalid Username and Password\n"
     ]
    }
   ],
   "source": [
    "username = input(\"Enter username: \")\n",
    "password = input(\"Enter password: \")\n",
    "\n",
    "if username == \"admin\" and password == \"admin@123\":\n",
    "    print(\"Login Successful\")\n",
    "elif username != \"admin\" and password == \"admin@123\":\n",
    "    print(\"Invalid Username\")\n",
    "elif username == \"admin\" and password != \"admin@123\":\n",
    "    print(\"Invalid Password\")\n",
    "else:\n",
    "    print(\"Invalid Username and Password\")\n"
   ]
  },
  {
   "cell_type": "code",
   "execution_count": 8,
   "id": "08ccc701-86cb-42aa-ab84-affb377e566d",
   "metadata": {},
   "outputs": [
    {
     "name": "stdout",
     "output_type": "stream",
     "text": [
      "{'Ali': {'age': 20, 'grade': 'A', 'city': 'Karachi'}, 'Sara': {'age': 21, 'grade': 'B', 'city': 'Lahore'}, 'Hina': {'age': 22, 'grade': 'C', 'city': 'Faisalabad'}, 'Zara': {'age': 20, 'grade': 'B', 'city': 'Multan'}}\n"
     ]
    }
   ],
   "source": [
    "student_details = {\n",
    "    \"Ali\": {\"age\": 20, \"grade\": \"A\", \"city\": \"Karachi\"},\n",
    "    \"Sara\": {\"age\": 21, \"grade\": \"B\", \"city\": \"Lahore\"},\n",
    "    \"Omar\": {\"age\": 19, \"grade\": \"A\", \"city\": \"Islamabad\"},\n",
    "    \"Hina\": {\"age\": 22, \"grade\": \"C\", \"city\": \"Faisalabad\"}\n",
    "}\n",
    "\n",
    "# Add new student\n",
    "student_details[\"Zara\"] = {\"age\": 20, \"grade\": \"B\", \"city\": \"Multan\"}\n",
    "\n",
    "# Remove Omar\n",
    "student_details.pop(\"Omar\")\n",
    "\n",
    "print(student_details)\n"
   ]
  },
  {
   "cell_type": "code",
   "execution_count": 9,
   "id": "b5ecce75-6e98-4760-a417-382137bff814",
   "metadata": {},
   "outputs": [
    {
     "name": "stdin",
     "output_type": "stream",
     "text": [
      "Enter your age:  25\n",
      "Enter your credit score:  1888\n",
      "Enter your annual income:  800000\n"
     ]
    },
    {
     "name": "stdout",
     "output_type": "stream",
     "text": [
      "You are eligible for the loan!\n"
     ]
    }
   ],
   "source": [
    "age = int(input(\"Enter your age: \"))\n",
    "score = int(input(\"Enter your credit score: \"))\n",
    "income = int(input(\"Enter your annual income: \"))\n",
    "\n",
    "if age < 18:\n",
    "    print(\"Not eligible due to age.\")\n",
    "elif score < 650:\n",
    "    print(\"Not eligible due to low credit score.\")\n",
    "elif score >= 700 and income >= 25000:\n",
    "    print(\"You are eligible for the loan!\")\n",
    "elif score >= 650 and income >= 30000:\n",
    "    print(\"You are eligible for the loan!\")\n",
    "else:\n",
    "    print(\"You are not eligible for the loan.\")\n"
   ]
  },
  {
   "cell_type": "code",
   "execution_count": 10,
   "id": "199f4ef1-ad82-4999-a3f9-3db8c91eb21c",
   "metadata": {},
   "outputs": [
    {
     "name": "stdin",
     "output_type": "stream",
     "text": [
      "Enter a single letter:  z\n"
     ]
    },
    {
     "name": "stdout",
     "output_type": "stream",
     "text": [
      "z is a Consonant\n"
     ]
    }
   ],
   "source": [
    "ch = input(\"Enter a single letter: \")\n",
    "\n",
    "if len(ch) == 1 and ch.isalpha():\n",
    "    if ch.lower() in \"aeiou\":\n",
    "        print(ch, \"is a Vowel\")\n",
    "    else:\n",
    "        print(ch, \"is a Consonant\")\n",
    "else:\n",
    "    print(\"Please enter a valid alphabet\")\n"
   ]
  },
  {
   "cell_type": "code",
   "execution_count": null,
   "id": "5c635551-2290-400f-86e2-8d2d0bd1047d",
   "metadata": {},
   "outputs": [],
   "source": []
  }
 ],
 "metadata": {
  "kernelspec": {
   "display_name": "Python 3 (ipykernel)",
   "language": "python",
   "name": "python3"
  },
  "language_info": {
   "codemirror_mode": {
    "name": "ipython",
    "version": 3
   },
   "file_extension": ".py",
   "mimetype": "text/x-python",
   "name": "python",
   "nbconvert_exporter": "python",
   "pygments_lexer": "ipython3",
   "version": "3.12.7"
  }
 },
 "nbformat": 4,
 "nbformat_minor": 5
}
