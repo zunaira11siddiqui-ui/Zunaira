{
 "cells": [
  {
   "cell_type": "code",
   "execution_count": 1,
   "metadata": {
    "colab": {
     "base_uri": "https://localhost:8080/"
    },
    "id": "7vOXPHsIL_AN",
    "outputId": "ad7077e6-ba8a-4e3a-c7b2-15ece9f70471"
   },
   "outputs": [
    {
     "name": "stdin",
     "output_type": "stream",
     "text": [
      "Enter a number between 1 and 10:  9\n"
     ]
    },
    {
     "name": "stdout",
     "output_type": "stream",
     "text": [
      "9 x 1 = 9\n",
      "9 x 2 = 18\n",
      "9 x 3 = 27\n",
      "9 x 4 = 36\n",
      "9 x 5 = 45\n",
      "9 x 6 = 54\n",
      "9 x 7 = 63\n",
      "9 x 8 = 72\n",
      "9 x 9 = 81\n",
      "9 x 10 = 90\n"
     ]
    }
   ],
   "source": [
    "# Q1: Multiplication table using for loop\n",
    "num = int(input(\"Enter a number between 1 and 10: \"))\n",
    "\n",
    "if 1 <= num <= 10:\n",
    "    for i in range(1, 11):\n",
    "        print(f\"{num} x {i} = {num * i}\")\n",
    "else:\n",
    "    print(\"Please enter a valid number between 1 and 10.\")\n"
   ]
  },
  {
   "cell_type": "code",
   "execution_count": 5,
   "metadata": {
    "colab": {
     "base_uri": "https://localhost:8080/"
    },
    "id": "FmY7InWeMZNB",
    "outputId": "d965ee27-25e8-4b28-b32a-8d2a8a7a12e5"
   },
   "outputs": [
    {
     "name": "stdout",
     "output_type": "stream",
     "text": [
      "Email sent to Ali\n",
      "Email sent to Sara\n",
      "Email sent to John\n",
      "Limit reached. Stop sending emails.\n"
     ]
    }
   ],
   "source": [
    "# Q2: Stop sending emails after 3 users using loop & break\n",
    "users = [\"Ali\", \"Sara\", \"John\", \"Zara\", \"Mike\"]\n",
    "\n",
    "for i, user in enumerate(users):\n",
    "    if i == 3:  # stop after 3 users\n",
    "        print(\"Limit reached. Stop sending emails.\")\n",
    "        break\n",
    "    print(f\"Email sent to {user}\")"
   ]
  },
  {
   "cell_type": "code",
   "execution_count": 6,
   "metadata": {
    "colab": {
     "base_uri": "https://localhost:8080/"
    },
    "id": "y-JSoa0GMj38",
    "outputId": "2506ef57-ea52-484c-815b-6ee4be81e53b"
   },
   "outputs": [
    {
     "name": "stdout",
     "output_type": "stream",
     "text": [
      "Temperature: 22\n",
      "Temperature: 25\n",
      "Temperature: 30\n",
      "Critical temperature reached! Stop monitoring.\n"
     ]
    }
   ],
   "source": [
    "# Q3: Stop monitoring temperature if critical reached\n",
    "temps = [22, 25, 30, 45, 28]\n",
    "critical = 40\n",
    "\n",
    "for t in temps:\n",
    "    if t >= critical:\n",
    "        print(\"Critical temperature reached! Stop monitoring.\")\n",
    "        break\n",
    "    print(f\"Temperature: {t}\")"
   ]
  },
  {
   "cell_type": "code",
   "execution_count": 7,
   "metadata": {
    "colab": {
     "base_uri": "https://localhost:8080/"
    },
    "id": "sBf0ugA0M1a0",
    "outputId": "6dfd05ec-765f-4b0d-edda-bf8da7d74d43"
   },
   "outputs": [
    {
     "name": "stdout",
     "output_type": "stream",
     "text": [
      "Total Price: 700\n"
     ]
    }
   ],
   "source": [
    "# Q4: Calculate total price of items in a shopping cart\n",
    "cart = [100, 250, 50, 300]\n",
    "total = 0\n",
    "\n",
    "for price in cart:\n",
    "    total += price\n",
    "\n",
    "print(\"Total Price:\", total)"
   ]
  },
  {
   "cell_type": "code",
   "execution_count": 8,
   "metadata": {
    "colab": {
     "base_uri": "https://localhost:8080/"
    },
    "id": "dn-va_hoNOs-",
    "outputId": "2a7982ef-72cf-4720-dd1f-4f293e960de3"
   },
   "outputs": [
    {
     "name": "stdout",
     "output_type": "stream",
     "text": [
      "Access granted to: Ali\n",
      "Access granted to: John\n"
     ]
    }
   ],
   "source": [
    "# Q5: Skip customers with unpaid bills\n",
    "customers = [\n",
    "    {\"name\": \"Ali\", \"paid\": True},\n",
    "    {\"name\": \"Sara\", \"paid\": False},\n",
    "    {\"name\": \"John\", \"paid\": True}\n",
    "]\n",
    "\n",
    "for customer in customers:\n",
    "    if not customer[\"paid\"]:\n",
    "        continue\n",
    "    print(f\"Access granted to: {customer['name']}\")"
   ]
  },
  {
   "cell_type": "code",
   "execution_count": 9,
   "metadata": {
    "colab": {
     "base_uri": "https://localhost:8080/"
    },
    "id": "VT_mtL7wNaPg",
    "outputId": "c9b82feb-0cf7-457a-9863-da03043b9ac4"
   },
   "outputs": [
    {
     "name": "stdout",
     "output_type": "stream",
     "text": [
      "Hello Ali, your subscription is active!\n",
      "Hello Sara, your subscription is active!\n",
      "Hello John, your subscription is active!\n"
     ]
    }
   ],
   "source": [
    "# Q6: Personalized emails\n",
    "users = [\"Ali\", \"Sara\", \"John\"]\n",
    "\n",
    "for user in users:\n",
    "    print(f\"Hello {user}, your subscription is active!\")"
   ]
  },
  {
   "cell_type": "code",
   "execution_count": 10,
   "metadata": {
    "colab": {
     "base_uri": "https://localhost:8080/"
    },
    "id": "xD8JEexaN0DH",
    "outputId": "b8ce332b-2959-41bd-c4c4-4e19839e5d75"
   },
   "outputs": [
    {
     "name": "stdout",
     "output_type": "stream",
     "text": [
      "domains: ['gmail.com', 'yahoo.com', 'hotmail.com']\n"
     ]
    }
   ],
   "source": [
    "# Q7: Extract domains from emails\n",
    "emails = [\"ali@gmail.com\", \"sara@yahoo.com\", \"john@hotmail.com\"]\n",
    "domains = []\n",
    "\n",
    "for email in emails:\n",
    "    domain = email.split(\"@\")[1]\n",
    "    domains.append(domain)\n",
    "\n",
    "print(\"domains:\", domains)"
   ]
  },
  {
   "cell_type": "code",
   "execution_count": 11,
   "metadata": {
    "colab": {
     "base_uri": "https://localhost:8080/"
    },
    "id": "eSwMbgAuN7l0",
    "outputId": "d8ba3201-1921-4b64-a5cf-c2119483fc93"
   },
   "outputs": [
    {
     "name": "stdout",
     "output_type": "stream",
     "text": [
      "Overdue: Submit report\n",
      "Overdue: Clean house\n"
     ]
    }
   ],
   "source": [
    "# Q8: Print overdue tasks\n",
    "tasks = [\n",
    "    {\"task\": \"Pay bills\", \"status\": \"done\"},\n",
    "    {\"task\": \"Submit report\", \"status\": \"pending\"},\n",
    "    {\"task\": \"Clean house\", \"status\": \"pending\"}\n",
    "]\n",
    "\n",
    "for task in tasks:\n",
    "    if task[\"status\"] == \"pending\":\n",
    "        print(f\"Overdue: {task['task']}\")"
   ]
  },
  {
   "cell_type": "code",
   "execution_count": 12,
   "metadata": {
    "colab": {
     "base_uri": "https://localhost:8080/"
    },
    "id": "kHziTu-aOEIu",
    "outputId": "2525a093-ab32-4814-ddce-4c51a1865529"
   },
   "outputs": [
    {
     "name": "stdout",
     "output_type": "stream",
     "text": [
      "Ali earns above 50,000\n",
      "John earns above 50,000\n"
     ]
    }
   ],
   "source": [
    "# Q9: Employees earning above 50,000\n",
    "employees = [\n",
    "    {\"name\": \"Ali\", \"salary\": 60000},\n",
    "    {\"name\": \"Sara\", \"salary\": 45000},\n",
    "    {\"name\": \"John\", \"salary\": 70000}\n",
    "]\n",
    "\n",
    "for emp in employees:\n",
    "    if emp[\"salary\"] > 50000:\n",
    "        print(f\"{emp['name']} earns above 50,000\")"
   ]
  },
  {
   "cell_type": "code",
   "execution_count": 14,
   "metadata": {
    "colab": {
     "base_uri": "https://localhost:8080/"
    },
    "id": "xrtkxuu0ObPt",
    "outputId": "0d86bcc4-d0d6-4092-9f2c-46ec3b136a42"
   },
   "outputs": [
    {
     "name": "stdout",
     "output_type": "stream",
     "text": [
      "Workday: Monday\n",
      "Workday: Tuesday\n",
      "Workday: Wednesday\n",
      "Workday: Thursday\n",
      "Workday: Friday\n"
     ]
    }
   ],
   "source": [
    "# Q10: Skip weekends\n",
    "days = [\"Monday\", \"Tuesday\", \"Wednesday\", \"Thursday\", \"Friday\", \"Saturday\", \"Sunday\"]\n",
    "\n",
    "for day in days:\n",
    "    if day in [\"Saturday\", \"Sunday\"]:\n",
    "        continue\n",
    "    print(f\"Workday: {day}\")"
   ]
  }
 ],
 "metadata": {
  "colab": {
   "provenance": []
  },
  "kernelspec": {
   "display_name": "Python 3 (ipykernel)",
   "language": "python",
   "name": "python3"
  },
  "language_info": {
   "codemirror_mode": {
    "name": "ipython",
    "version": 3
   },
   "file_extension": ".py",
   "mimetype": "text/x-python",
   "name": "python",
   "nbconvert_exporter": "python",
   "pygments_lexer": "ipython3",
   "version": "3.12.7"
  }
 },
 "nbformat": 4,
 "nbformat_minor": 4
}
