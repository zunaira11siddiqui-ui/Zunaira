{
 "cells": [
  {
   "cell_type": "code",
   "execution_count": 3,
   "id": "4fa2881b-d194-48b5-a911-4088b2a203d5",
   "metadata": {},
   "outputs": [
    {
     "name": "stdin",
     "output_type": "stream",
     "text": [
      "Enter amount to withdraw:  1100\n"
     ]
    },
    {
     "name": "stdout",
     "output_type": "stream",
     "text": [
      "Insufficient balance.\n",
      "Thank you for using the ATM.\n"
     ]
    }
   ],
   "source": [
    "balance = 1000\n",
    "\n",
    "try:\n",
    "    amount = int(input(\"Enter amount to withdraw: \"))\n",
    "    if amount <= 0:\n",
    "        print(\"Amount must be more than zero.\")\n",
    "    elif amount > balance:\n",
    "        print(\"Insufficient balance.\")\n",
    "    else:\n",
    "        balance -= amount\n",
    "        print(\"Withdrawal successful! Remaining balance:\", balance)\n",
    "except ValueError:\n",
    "    print(\"Please enter a valid number.\")\n",
    "finally:\n",
    "    print(\"Thank you for using the ATM.\")\n"
   ]
  },
  {
   "cell_type": "code",
   "execution_count": 4,
   "id": "d9a53077-db93-4fb5-9706-2ac5bc6ff9e2",
   "metadata": {},
   "outputs": [
    {
     "name": "stdin",
     "output_type": "stream",
     "text": [
      "How many tickets do you want to book?  4\n"
     ]
    },
    {
     "name": "stdout",
     "output_type": "stream",
     "text": [
      "4 ticket(s) booked successfully.\n",
      "Thank you for booking with us.\n"
     ]
    }
   ],
   "source": [
    "available_seats = 5\n",
    "\n",
    "try:\n",
    "    tickets = int(input(\"How many tickets do you want to book? \"))\n",
    "    if tickets <= 0:\n",
    "        print(\"You must book at least 1 ticket.\")\n",
    "    elif tickets > available_seats:\n",
    "        print(\"Not enough seats available.\")\n",
    "    else:\n",
    "        print(f\"{tickets} ticket(s) booked successfully.\")\n",
    "except ValueError:\n",
    "    print(\"Please enter a valid number.\")\n",
    "finally:\n",
    "    print(\"Thank you for booking with us.\")\n"
   ]
  },
  {
   "cell_type": "code",
   "execution_count": 5,
   "id": "2a6ed833-d622-4bc4-861c-85b52c66d8a4",
   "metadata": {},
   "outputs": [
    {
     "name": "stdin",
     "output_type": "stream",
     "text": [
      "Enter the number of items you want to buy:  6\n"
     ]
    },
    {
     "name": "stdout",
     "output_type": "stream",
     "text": [
      "You added 6 item(s) to your cart.\n"
     ]
    }
   ],
   "source": [
    "try:\n",
    "    quantity = int(input(\"Enter the number of items you want to buy: \"))\n",
    "    if quantity < 1:\n",
    "        print(\"You must buy at least one item.\")\n",
    "    else:\n",
    "        print(f\"You added {quantity} item(s) to your cart.\")\n",
    "except ValueError:\n",
    "    print(\"Please enter a valid quantity.\")\n"
   ]
  },
  {
   "cell_type": "code",
   "execution_count": 6,
   "id": "aa8e1d67-bb51-4ae9-bd35-6b18eaf33f16",
   "metadata": {},
   "outputs": [
    {
     "name": "stdin",
     "output_type": "stream",
     "text": [
      "Enter a day number (1-7):  2\n"
     ]
    },
    {
     "name": "stdout",
     "output_type": "stream",
     "text": [
      "Day is Tuesday\n"
     ]
    }
   ],
   "source": [
    "days = {\n",
    "    1: \"Monday\", 2: \"Tuesday\", 3: \"Wednesday\", \n",
    "    4: \"Thursday\", 5: \"Friday\", 6: \"Saturday\", 7: \"Sunday\"\n",
    "}\n",
    "\n",
    "try:\n",
    "    num = int(input(\"Enter a day number (1-7): \"))\n",
    "    if 1 <= num <= 7:\n",
    "        print(\"Day is\", days[num])\n",
    "    else:\n",
    "        print(\"Please enter a number between 1 and 7.\")\n",
    "except ValueError:\n",
    "    print(\"Please enter a valid number.\")\n"
   ]
  },
  {
   "cell_type": "code",
   "execution_count": 8,
   "id": "b7dd06b6-b790-46e3-9832-7b1100e2906e",
   "metadata": {},
   "outputs": [
    {
     "name": "stdin",
     "output_type": "stream",
     "text": [
      "Enter the number of days late:  5\n"
     ]
    },
    {
     "name": "stdout",
     "output_type": "stream",
     "text": [
      "Total fine: $2.50\n"
     ]
    }
   ],
   "source": [
    "try:\n",
    "    days_late = int(input(\"Enter the number of days late: \"))\n",
    "    if days_late < 0:\n",
    "        print(\"Days late cannot be negative.\")\n",
    "    else:\n",
    "        fine = days_late * 0.50\n",
    "        print(f\"Total fine: ${fine:.2f}\")\n",
    "except ValueError:\n",
    "    print(\"Please enter a valid number.\")\n"
   ]
  },
  {
   "cell_type": "code",
   "execution_count": 9,
   "id": "1c123b3f-774e-4850-8b13-8ae4255be1b1",
   "metadata": {},
   "outputs": [
    {
     "name": "stdout",
     "output_type": "stream",
     "text": [
      "To Kill a Mockingbird\n",
      "Harper Lee\n",
      "1960\n"
     ]
    }
   ],
   "source": [
    "class Book:\n",
    "    def __init__(self, title, author, year):\n",
    "        self.title = title\n",
    "        self.author = author\n",
    "        self.year = year\n",
    "\n",
    "book1 = Book(\"To Kill a Mockingbird\", \"Harper Lee\", 1960)\n",
    "print(book1.title)\n",
    "print(book1.author)\n",
    "print(book1.year)\n"
   ]
  },
  {
   "cell_type": "code",
   "execution_count": 10,
   "id": "547cba19-9d1c-44a9-933b-aab348f1163a",
   "metadata": {},
   "outputs": [
    {
     "name": "stdout",
     "output_type": "stream",
     "text": [
      "'To Kill a Mockingbird' by Harper Lee, published in 1960.\n",
      "This is a book.\n"
     ]
    }
   ],
   "source": [
    "class Book:\n",
    "    def __init__(self, title, author, year):\n",
    "        self.title = title\n",
    "        self.author = author\n",
    "        self.year = year\n",
    "\n",
    "    def display_info(self):\n",
    "        print(f\"'{self.title}' by {self.author}, published in {self.year}.\")\n",
    "\n",
    "    def is_classic(self):\n",
    "        print(\"This is a book.\")\n",
    "\n",
    "book1 = Book(\"To Kill a Mockingbird\", \"Harper Lee\", 1960)\n",
    "book1.display_info()\n",
    "book1.is_classic()\n"
   ]
  },
  {
   "cell_type": "code",
   "execution_count": 11,
   "id": "2048fb73-5334-4278-afbc-855d339b7ec9",
   "metadata": {},
   "outputs": [
    {
     "name": "stdout",
     "output_type": "stream",
     "text": [
      "My name is Alice, I am 16 years old.\n",
      "My grade is A.\n"
     ]
    }
   ],
   "source": [
    "class Student:\n",
    "    def __init__(self, name, grade, age):\n",
    "        self.name = name\n",
    "        self.grade = grade\n",
    "        self.age = age\n",
    "\n",
    "    def introduce(self):\n",
    "        print(f\"My name is {self.name}, I am {self.age} years old.\")\n",
    "\n",
    "    def show_grade(self):\n",
    "        print(f\"My grade is {self.grade}.\")\n",
    "\n",
    "student1 = Student(\"Alice\", \"A\", 16)\n",
    "student1.introduce()\n",
    "student1.show_grade()\n"
   ]
  },
  {
   "cell_type": "code",
   "execution_count": 12,
   "id": "77c66a9d-3a95-4473-8dbd-4c09a50be2a9",
   "metadata": {},
   "outputs": [
    {
     "name": "stdout",
     "output_type": "stream",
     "text": [
      "The light is now ON.\n",
      "The light is bright and working.\n"
     ]
    }
   ],
   "source": [
    "class Light:\n",
    "    def turn_on(self):\n",
    "        print(\"The light is now ON.\")\n",
    "\n",
    "    def check_status(self):\n",
    "        print(\"The light is bright and working.\")\n",
    "\n",
    "lamp = Light()\n",
    "lamp.turn_on()\n",
    "lamp.check_status()\n"
   ]
  },
  {
   "cell_type": "code",
   "execution_count": 13,
   "id": "f9ae0059-617d-4fc0-900c-d9836eab29b3",
   "metadata": {},
   "outputs": [
    {
     "name": "stdin",
     "output_type": "stream",
     "text": [
      "Enter the parking slot number you want to reserve:  107\n"
     ]
    },
    {
     "name": "stdout",
     "output_type": "stream",
     "text": [
      "Slot 107 is already reserved by someone else.\n"
     ]
    }
   ],
   "source": [
    "available_slots = [101, 102, 103, 104, 105]\n",
    "reserved = [106, 107, 108, 109, 110]\n",
    "\n",
    "try:\n",
    "    slot = int(input(\"Enter the parking slot number you want to reserve: \"))\n",
    "    if slot in available_slots:\n",
    "        print(f\"Slot {slot} is reserved for you.\")\n",
    "    elif slot in reserved:\n",
    "        print(f\"Slot {slot} is already reserved by someone else.\")\n",
    "    else:\n",
    "        print(f\"Slot {slot} does not exist.\")\n",
    "except ValueError:\n",
    "    print(\"Invalid input. Please enter a valid slot number.\")\n"
   ]
  },
  {
   "cell_type": "code",
   "execution_count": null,
   "id": "47256d3e-f952-415e-97f5-f0639cb4f466",
   "metadata": {},
   "outputs": [],
   "source": []
  }
 ],
 "metadata": {
  "kernelspec": {
   "display_name": "Python 3 (ipykernel)",
   "language": "python",
   "name": "python3"
  },
  "language_info": {
   "codemirror_mode": {
    "name": "ipython",
    "version": 3
   },
   "file_extension": ".py",
   "mimetype": "text/x-python",
   "name": "python",
   "nbconvert_exporter": "python",
   "pygments_lexer": "ipython3",
   "version": "3.12.7"
  }
 },
 "nbformat": 4,
 "nbformat_minor": 5
}
