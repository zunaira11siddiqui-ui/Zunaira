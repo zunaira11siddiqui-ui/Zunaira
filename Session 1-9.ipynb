{
 "cells": [
  {
   "cell_type": "code",
   "execution_count": 11,
   "id": "3d9c2f4e-b2f2-4187-a305-9bd1c4265faf",
   "metadata": {},
   "outputs": [
    {
     "name": "stdout",
     "output_type": "stream",
     "text": [
      "256\n",
      "<class 'int'>\n",
      "<class 'str'>\n",
      "203\n",
      "HELLO\n"
     ]
    }
   ],
   "source": [
    "# SESSION - 1 & 2\n",
    "a = 13 # Assigning\n",
    "b = 243 \n",
    "c = a + b #Arithmetic Operation\n",
    "print(c)\n",
    "print(type(c)) #type checking\n",
    "print(type(str(c))) # type casting\n",
    "print('20' + \"3\") #concatenation of numbers\n",
    "print('HEL' + \"LO\") #concatenation of letters"
   ]
  },
  {
   "cell_type": "code",
   "execution_count": 14,
   "id": "a07df7ea-371f-4a75-8684-43d8a155bd4d",
   "metadata": {},
   "outputs": [
    {
     "name": "stdout",
     "output_type": "stream",
     "text": [
      "60K\n",
      "['40K', '90K', '50K']\n",
      "['40K', '90K', '50K', '60K']\n",
      "['30K', '40K', '90K', '50K', '60K']\n"
     ]
    }
   ],
   "source": [
    "# SESSION - 3\n",
    "Salaries = ['30K','40K','90K','50K','60K'] #List\n",
    "print(Salaries[4]) #Indexing : starts from 0 and ends at number of items in list\n",
    "print(Salaries[1:4]) # Slicing\n",
    "print(Salaries[1:5]) # Slicing\n",
    "print(Salaries[0:5]) # Slicing"
   ]
  },
  {
   "cell_type": "code",
   "execution_count": 17,
   "id": "c9d516f8-6e07-428f-a9f3-d4ba6c8cf621",
   "metadata": {},
   "outputs": [
    {
     "data": {
      "text/plain": [
       "['__add__',\n",
       " '__class__',\n",
       " '__class_getitem__',\n",
       " '__contains__',\n",
       " '__delattr__',\n",
       " '__delitem__',\n",
       " '__dir__',\n",
       " '__doc__',\n",
       " '__eq__',\n",
       " '__format__',\n",
       " '__ge__',\n",
       " '__getattribute__',\n",
       " '__getitem__',\n",
       " '__getstate__',\n",
       " '__gt__',\n",
       " '__hash__',\n",
       " '__iadd__',\n",
       " '__imul__',\n",
       " '__init__',\n",
       " '__init_subclass__',\n",
       " '__iter__',\n",
       " '__le__',\n",
       " '__len__',\n",
       " '__lt__',\n",
       " '__mul__',\n",
       " '__ne__',\n",
       " '__new__',\n",
       " '__reduce__',\n",
       " '__reduce_ex__',\n",
       " '__repr__',\n",
       " '__reversed__',\n",
       " '__rmul__',\n",
       " '__setattr__',\n",
       " '__setitem__',\n",
       " '__sizeof__',\n",
       " '__str__',\n",
       " '__subclasshook__',\n",
       " 'append',\n",
       " 'clear',\n",
       " 'copy',\n",
       " 'count',\n",
       " 'extend',\n",
       " 'index',\n",
       " 'insert',\n",
       " 'pop',\n",
       " 'remove',\n",
       " 'reverse',\n",
       " 'sort']"
      ]
     },
     "execution_count": 17,
     "metadata": {},
     "output_type": "execute_result"
    }
   ],
   "source": [
    "# SESSION - 3 continued\n",
    "dir (list) # Showing all attributes of List, Explore all by yourself"
   ]
  },
  {
   "cell_type": "code",
   "execution_count": 25,
   "id": "df3fbf08-b9ed-4d07-afa9-cc833e094193",
   "metadata": {},
   "outputs": [
    {
     "name": "stdout",
     "output_type": "stream",
     "text": [
      "Akhtar Hussain\n",
      "AKHTAR HUSSAIN\n",
      "akhtar hussain\n",
      "['Akhtar', 'Hussain']\n",
      "Jalal Hussain\n",
      "14\n"
     ]
    }
   ],
   "source": [
    "# SESSION - 4 \n",
    "# Learning about string type attributes...\n",
    "name = \"Akhtar Hussain\"\n",
    "print(name)\n",
    "print(name.upper())\n",
    "print(name.lower())\n",
    "print(name.split())\n",
    "print(name.replace(\"Akhtar\",\"Jalal\"))\n",
    "print(len(name))"
   ]
  },
  {
   "cell_type": "code",
   "execution_count": 23,
   "id": "2e009083-e002-4d1c-97e8-e88159295e96",
   "metadata": {},
   "outputs": [
    {
     "data": {
      "text/plain": [
       "['__add__',\n",
       " '__class__',\n",
       " '__contains__',\n",
       " '__delattr__',\n",
       " '__dir__',\n",
       " '__doc__',\n",
       " '__eq__',\n",
       " '__format__',\n",
       " '__ge__',\n",
       " '__getattribute__',\n",
       " '__getitem__',\n",
       " '__getnewargs__',\n",
       " '__getstate__',\n",
       " '__gt__',\n",
       " '__hash__',\n",
       " '__init__',\n",
       " '__init_subclass__',\n",
       " '__iter__',\n",
       " '__le__',\n",
       " '__len__',\n",
       " '__lt__',\n",
       " '__mod__',\n",
       " '__mul__',\n",
       " '__ne__',\n",
       " '__new__',\n",
       " '__reduce__',\n",
       " '__reduce_ex__',\n",
       " '__repr__',\n",
       " '__rmod__',\n",
       " '__rmul__',\n",
       " '__setattr__',\n",
       " '__sizeof__',\n",
       " '__str__',\n",
       " '__subclasshook__',\n",
       " 'capitalize',\n",
       " 'casefold',\n",
       " 'center',\n",
       " 'count',\n",
       " 'encode',\n",
       " 'endswith',\n",
       " 'expandtabs',\n",
       " 'find',\n",
       " 'format',\n",
       " 'format_map',\n",
       " 'index',\n",
       " 'isalnum',\n",
       " 'isalpha',\n",
       " 'isascii',\n",
       " 'isdecimal',\n",
       " 'isdigit',\n",
       " 'isidentifier',\n",
       " 'islower',\n",
       " 'isnumeric',\n",
       " 'isprintable',\n",
       " 'isspace',\n",
       " 'istitle',\n",
       " 'isupper',\n",
       " 'join',\n",
       " 'ljust',\n",
       " 'lower',\n",
       " 'lstrip',\n",
       " 'maketrans',\n",
       " 'partition',\n",
       " 'removeprefix',\n",
       " 'removesuffix',\n",
       " 'replace',\n",
       " 'rfind',\n",
       " 'rindex',\n",
       " 'rjust',\n",
       " 'rpartition',\n",
       " 'rsplit',\n",
       " 'rstrip',\n",
       " 'split',\n",
       " 'splitlines',\n",
       " 'startswith',\n",
       " 'strip',\n",
       " 'swapcase',\n",
       " 'title',\n",
       " 'translate',\n",
       " 'upper',\n",
       " 'zfill']"
      ]
     },
     "execution_count": 23,
     "metadata": {},
     "output_type": "execute_result"
    }
   ],
   "source": [
    "# SESSION - 4 continued\n",
    "dir (\"\") # Showing all attributes we can use for string type data, Explore all by yourself"
   ]
  },
  {
   "cell_type": "markdown",
   "id": "52e621bd-9e35-4857-9b47-94c4ad33f740",
   "metadata": {},
   "source": [
    "## SESSION - 5\n",
    "### Learning about LIST,TUPLE, DICTIONARY, SET...\n",
    "### CODE STRUCTURE OF:\n",
    "####  1) List: name of list = () [ex: subjects = [\"URDU\", \"ENG\", \"MATHS\", \"PHY\",\"CHEM\"]   ]\n",
    "####  2) Tuple: name of tuple = () [ex: subjects = (\"URDU\", \"ENG\", \"MATHS\", \"PHY\",\"CHEM\")]\n",
    "####  3) Dictionary: name of dictionary = {key:value} [ex: BIO = (\"name\":\"Ali\", \"age\":23, \"contact\":\"015369\")]\n",
    "####  4) Set: name of set = {} [ex: Set_of_Even_numbers = {2,4,6,8,10,12,14}]"
   ]
  },
  {
   "cell_type": "code",
   "execution_count": 31,
   "id": "7070e3db-afc5-4930-9066-32d45dc2cf60",
   "metadata": {},
   "outputs": [
    {
     "data": {
      "text/plain": [
       "['__add__',\n",
       " '__class__',\n",
       " '__class_getitem__',\n",
       " '__contains__',\n",
       " '__delattr__',\n",
       " '__dir__',\n",
       " '__doc__',\n",
       " '__eq__',\n",
       " '__format__',\n",
       " '__ge__',\n",
       " '__getattribute__',\n",
       " '__getitem__',\n",
       " '__getnewargs__',\n",
       " '__getstate__',\n",
       " '__gt__',\n",
       " '__hash__',\n",
       " '__init__',\n",
       " '__init_subclass__',\n",
       " '__iter__',\n",
       " '__le__',\n",
       " '__len__',\n",
       " '__lt__',\n",
       " '__mul__',\n",
       " '__ne__',\n",
       " '__new__',\n",
       " '__reduce__',\n",
       " '__reduce_ex__',\n",
       " '__repr__',\n",
       " '__rmul__',\n",
       " '__setattr__',\n",
       " '__sizeof__',\n",
       " '__str__',\n",
       " '__subclasshook__',\n",
       " 'count',\n",
       " 'index']"
      ]
     },
     "execution_count": 31,
     "metadata": {},
     "output_type": "execute_result"
    }
   ],
   "source": [
    "# SESSION - 5 continued\n",
    "dir(tuple) # Explore all by yourself"
   ]
  },
  {
   "cell_type": "code",
   "execution_count": 33,
   "id": "4aabbffe-f70d-4361-8ca5-301fbc49305e",
   "metadata": {},
   "outputs": [
    {
     "data": {
      "text/plain": [
       "['__class__',\n",
       " '__class_getitem__',\n",
       " '__contains__',\n",
       " '__delattr__',\n",
       " '__delitem__',\n",
       " '__dir__',\n",
       " '__doc__',\n",
       " '__eq__',\n",
       " '__format__',\n",
       " '__ge__',\n",
       " '__getattribute__',\n",
       " '__getitem__',\n",
       " '__getstate__',\n",
       " '__gt__',\n",
       " '__hash__',\n",
       " '__init__',\n",
       " '__init_subclass__',\n",
       " '__ior__',\n",
       " '__iter__',\n",
       " '__le__',\n",
       " '__len__',\n",
       " '__lt__',\n",
       " '__ne__',\n",
       " '__new__',\n",
       " '__or__',\n",
       " '__reduce__',\n",
       " '__reduce_ex__',\n",
       " '__repr__',\n",
       " '__reversed__',\n",
       " '__ror__',\n",
       " '__setattr__',\n",
       " '__setitem__',\n",
       " '__sizeof__',\n",
       " '__str__',\n",
       " '__subclasshook__',\n",
       " 'clear',\n",
       " 'copy',\n",
       " 'fromkeys',\n",
       " 'get',\n",
       " 'items',\n",
       " 'keys',\n",
       " 'pop',\n",
       " 'popitem',\n",
       " 'setdefault',\n",
       " 'update',\n",
       " 'values']"
      ]
     },
     "execution_count": 33,
     "metadata": {},
     "output_type": "execute_result"
    }
   ],
   "source": [
    "# SESSION - 5 continued\n",
    "dir({}) # attributes for dictionary, Explore all by yourself"
   ]
  },
  {
   "cell_type": "code",
   "execution_count": 35,
   "id": "280a6dae-3b78-4ff9-9dc3-1452c2df5453",
   "metadata": {},
   "outputs": [
    {
     "data": {
      "text/plain": [
       "['__and__',\n",
       " '__class__',\n",
       " '__class_getitem__',\n",
       " '__contains__',\n",
       " '__delattr__',\n",
       " '__dir__',\n",
       " '__doc__',\n",
       " '__eq__',\n",
       " '__format__',\n",
       " '__ge__',\n",
       " '__getattribute__',\n",
       " '__getstate__',\n",
       " '__gt__',\n",
       " '__hash__',\n",
       " '__iand__',\n",
       " '__init__',\n",
       " '__init_subclass__',\n",
       " '__ior__',\n",
       " '__isub__',\n",
       " '__iter__',\n",
       " '__ixor__',\n",
       " '__le__',\n",
       " '__len__',\n",
       " '__lt__',\n",
       " '__ne__',\n",
       " '__new__',\n",
       " '__or__',\n",
       " '__rand__',\n",
       " '__reduce__',\n",
       " '__reduce_ex__',\n",
       " '__repr__',\n",
       " '__ror__',\n",
       " '__rsub__',\n",
       " '__rxor__',\n",
       " '__setattr__',\n",
       " '__sizeof__',\n",
       " '__str__',\n",
       " '__sub__',\n",
       " '__subclasshook__',\n",
       " '__xor__',\n",
       " 'add',\n",
       " 'clear',\n",
       " 'copy',\n",
       " 'difference',\n",
       " 'difference_update',\n",
       " 'discard',\n",
       " 'intersection',\n",
       " 'intersection_update',\n",
       " 'isdisjoint',\n",
       " 'issubset',\n",
       " 'issuperset',\n",
       " 'pop',\n",
       " 'remove',\n",
       " 'symmetric_difference',\n",
       " 'symmetric_difference_update',\n",
       " 'union',\n",
       " 'update']"
      ]
     },
     "execution_count": 35,
     "metadata": {},
     "output_type": "execute_result"
    }
   ],
   "source": [
    "# SESSION - 5 continued\n",
    "dir(set())  # Explore all by yourself"
   ]
  },
  {
   "cell_type": "code",
   "execution_count": 55,
   "id": "c6af4b62-e941-4469-8670-077145ab0737",
   "metadata": {},
   "outputs": [
    {
     "name": "stdout",
     "output_type": "stream",
     "text": [
      "x == y =  False\n",
      "x != y =  True\n",
      "x <= y =  True\n",
      "x >= y =  False\n",
      "x < y =  True\n",
      "x > y =  False\n",
      "\n",
      "\n",
      "a =  10\n",
      "a =  15 - adding 5 in a (10) and saving it in a\n",
      "a =  30 - multiplying  5 in a (15) and saving it in a\n",
      "a =  20 - subtracting  5 in a (30) and saving it in a\n",
      "\n",
      "\n",
      "X is less than Y & A is greater than Z =  False\n",
      "X is less than Y & A is greater than Z =  True\n",
      "X is less than Y & A is greater than Z =  False\n",
      "\n",
      "\n",
      "p in name =  False\n",
      "p not in name =  True\n",
      "J in name =  True\n",
      "F in name =  False\n"
     ]
    }
   ],
   "source": [
    "# SESSION - 6\n",
    "# COMPARISON OPERATOR (== , != , < , > , >= , <=)\n",
    "\n",
    "x = 10\n",
    "y = 12\n",
    "z = 22\n",
    "p = 15\n",
    "\n",
    "print(\"x == y = \", x == y) # equal to\n",
    "print(\"x != y = \", x != y) # not equal to\n",
    "print(\"x <= y = \", x <= y) # lesser or equal to\n",
    "print(\"x >= y = \", x >= y) # Greater or equal to\n",
    "print(\"x < y = \", x < y) # less than\n",
    "print(\"x > y = \", x > y) # Greater than\n",
    "\n",
    "# ASSIGNMENT OPERATORS (*=, +=, -=)\n",
    "print(\"\\n\")\n",
    "a = 10\n",
    "print (\"a = \", a)\n",
    "a += 5  # adding 5 in a, and saving it in a \n",
    "print (\"a = \", a, \"- adding 5 in a (10) and saving it in a\")\n",
    "a *= 2  # multiplying  5 in a, and saving it in a \n",
    "print (\"a = \", a, \"- multiplying  5 in a (15) and saving it in a\")\n",
    "a -= 10\n",
    "print (\"a = \", a, \"- subtracting  5 in a (30) and saving it in a\")\n",
    "\n",
    "# LOGICAL OPERATORS (and, or, not)\n",
    "print(\"\\n\")\n",
    "print(\"X is less than Y & A is greater than Z = \",x < y and a > z) # 1 false 1 true answer is false\n",
    "print(\"X is less than Y & A is greater than Z = \",x < y or a > z) # if any one condition is true answer is true\n",
    "print(\"X is less than Y & A is greater than Z = \",not (x < y or a > z)) # it reverse the answer, true answer converts to false \n",
    "\n",
    "# MEMBERSHIP OPERATOR (IN , NOT IN)\n",
    "print(\"\\n\")\n",
    "name = \"FARJAD\"\n",
    "print(\"p in name = \", \"p\" in name)\n",
    "print(\"p not in name = \",\"p\" not in name) # it can not be written like -> in not, correct way of writting is -> not in\n",
    "print(\"J in name = \",\"J\" in name)\n",
    "print(\"F in name = \",\"F\" not in name)"
   ]
  },
  {
   "cell_type": "code",
   "execution_count": 66,
   "id": "b71ec241-f325-4b46-a3aa-9ecddf47a7a4",
   "metadata": {},
   "outputs": [
    {
     "name": "stdin",
     "output_type": "stream",
     "text": [
      "Write a number 0-9 : 5\n"
     ]
    },
    {
     "name": "stdout",
     "output_type": "stream",
     "text": [
      "<class 'str'>\n"
     ]
    },
    {
     "name": "stdin",
     "output_type": "stream",
     "text": [
      "Write a number 0-9 : 5\n"
     ]
    },
    {
     "name": "stdout",
     "output_type": "stream",
     "text": [
      "<class 'int'>\n",
      "\n",
      "\n",
      "x == y = False \n",
      "x != y = True \n",
      "x >= y = False \n",
      "x <= y = True \n",
      "\n",
      "\n"
     ]
    },
    {
     "name": "stdin",
     "output_type": "stream",
     "text": [
      "Enter any one colour(Red,Yellow,Green): Green\n"
     ]
    },
    {
     "name": "stdout",
     "output_type": "stream",
     "text": [
      "GO\n",
      "\n",
      "\n"
     ]
    },
    {
     "name": "stdin",
     "output_type": "stream",
     "text": [
      "Enter Your Marks: 69\n"
     ]
    },
    {
     "name": "stdout",
     "output_type": "stream",
     "text": [
      "B\n",
      "\n",
      "\n",
      "invalid visa\n"
     ]
    }
   ],
   "source": [
    "# SESSION - 6 continued\n",
    "# Input Operator ; SYNTAX : input() By default it takes input from user in string data type\n",
    "a = input(\"Write a number 0-9 :\")\n",
    "print(type(a)) # to take input number in integer or float we must mention type\n",
    "a = int(input(\"Write a number 0-9 :\"))\n",
    "print(type(a))\n",
    "\n",
    "# IF - ELSE STATEMENT:\n",
    "print(\"\\n\")\n",
    "x = 10\n",
    "y = 12\n",
    "z = 22\n",
    "p = 15\n",
    "\n",
    "if x == y:\n",
    "    print(\"x == y = True \")\n",
    "else:\n",
    "    print(\"x == y = False \")\n",
    "if x != y:\n",
    "    print(\"x != y = True \")\n",
    "else:\n",
    "    print(\"x != y = False \")\n",
    "if x >= y:\n",
    "    print(\"x >= y = True \")\n",
    "else:\n",
    "    print(\"x >= y = False \")\n",
    "if x <= y:\n",
    "    print(\"x <= y = True \")\n",
    "else:\n",
    "    print(\"x <= y = False \")\n",
    "\n",
    "# IF-ELSE LADDER:\n",
    "print(\"\\n\")\n",
    "# EXAMPLE - 1\n",
    "Light = input(\"Enter any one colour(Red,Yellow,Green):\")\n",
    "if Light == \"Red\":\n",
    "    print(\"Please Stop \")\n",
    "elif Light == \"Yellow\":\n",
    "    print(\"Get Ready to GO\")\n",
    "elif Light == \"Green\":\n",
    "    print(\"GO\")\n",
    "else:\n",
    "    print(\"System Fail\")\n",
    "\n",
    "# EXAMPLE - 2\n",
    "print(\"\\n\")\n",
    "marks = int(input(\"Enter Your Marks:\"))\n",
    "\n",
    "if marks >= 80 and marks <= 100:\n",
    "    print('A+')\n",
    "elif marks >= 70 and marks <80:\n",
    "    print('A')\n",
    "elif marks >= 60 and marks < 70:\n",
    "    print('B')\n",
    "elif marks >= 50 and marks < 60:\n",
    "    print('C')\n",
    "elif marks >= 0 and marks <50:\n",
    "    print('fail')\n",
    "elif marks < 0 or marks > 100:\n",
    "    print('invalid number')\n",
    "\n",
    "#NESTED IF \n",
    "print(\"\\n\")\n",
    "visa = \"valid\"\n",
    "account_statement = 5000001\n",
    "purpose = \"education\"\n",
    "admission_letter = \"no\"\n",
    "job_recommendation = \"yes\"\n",
    "age = 33\n",
    "family_member = \"yes\"\n",
    "documents_submitted = \"yes\"\n",
    "\n",
    "if visa == 'invalid':\n",
    "    if purpose == 'education':\n",
    "        if family_member == 'yes':\n",
    "            print('welcome')\n",
    "        else:\n",
    "            print('please bring your family member with you')\n",
    "    else:\n",
    "        print('your purpose is not education')\n",
    "else:\n",
    "    print('invalid visa')"
   ]
  },
  {
   "cell_type": "code",
   "execution_count": 72,
   "id": "ec9e39a8-8edb-4a44-beb3-596129a00218",
   "metadata": {},
   "outputs": [
    {
     "name": "stdout",
     "output_type": "stream",
     "text": [
      "LOOP FOR EVEN ODD CONDITION\n",
      "1 is ODD\n",
      "2 is EVEN\n",
      "3 is ODD\n",
      "4 is EVEN\n",
      "5 is ODD\n",
      "6 is EVEN\n",
      "7 is ODD\n",
      "8 is EVEN\n",
      "9 is ODD\n",
      "10 is EVEN\n",
      "\n",
      "\n",
      "LOOP FOR PRINTING LIST ITEMS IN SEPERATE LINES\n",
      "Blue\n",
      "Red\n",
      "Green\n"
     ]
    }
   ],
   "source": [
    "# SESSION - 7 : LOOPS & Nested Loops\n",
    "# 1) for loop\n",
    "# 2) while loop\n",
    "# break, continue\n",
    "print(\"LOOP FOR EVEN ODD CONDITION\")\n",
    "for i in range(1,11):\n",
    "    if i % 2 == 0:\n",
    "        print (f\"{i} is EVEN\")\n",
    "    else:\n",
    "        print (f\"{i} is ODD\")\n",
    "print(\"\\n\")\n",
    "print(\"LOOP FOR PRINTING LIST ITEMS IN SEPERATE LINES\")\n",
    "Colors = [\"Blue\",\"Red\",\"Green\"]\n",
    "for i in Colors:\n",
    "    print(i)\n"
   ]
  },
  {
   "cell_type": "code",
   "execution_count": 75,
   "id": "21488f04-69eb-49e7-bc04-ef38066155ae",
   "metadata": {},
   "outputs": [
    {
     "name": "stdout",
     "output_type": "stream",
     "text": [
      "NESTED LOOP FOR PRINTING A DIFFERENT PATTERNS\n",
      "SQUARE PATTERN\n",
      "* * * * * * * * * * \n",
      "* * * * * * * * * * \n",
      "* * * * * * * * * * \n",
      "* * * * * * * * * * \n",
      "* * * * * * * * * * \n",
      "* * * * * * * * * * \n",
      "* * * * * * * * * * \n",
      "* * * * * * * * * * \n",
      "\n",
      "Right-Angled Triangle PATTERN\n",
      "* \n",
      "* * \n",
      "* * * \n",
      "* * * * \n",
      "* * * * * \n",
      "* * * * * * \n",
      "* * * * * * * \n",
      "* * * * * * * * \n",
      "\n",
      "Inverted Triangle PATTERN\n",
      "* * * * * * * * \n",
      "* * * * * * * \n",
      "* * * * * * \n",
      "* * * * * \n",
      "* * * * \n",
      "* * * \n",
      "* * \n",
      "* \n",
      "\n",
      "Pyramid (Centered Triangle) PATTERN\n",
      "       * \n",
      "      * * \n",
      "     * * * \n",
      "    * * * * \n",
      "   * * * * * \n",
      "  * * * * * * \n",
      " * * * * * * * \n"
     ]
    }
   ],
   "source": [
    "print(\"NESTED LOOP FOR PRINTING A DIFFERENT PATTERNS\")\n",
    "print(\"SQUARE PATTERN\")\n",
    "for i in range(1,9):\n",
    "    for i in range(1,11):\n",
    "        print(\"*\",end=\" \")\n",
    "    print()\n",
    "\n",
    "print(\"\\nRight-Angled Triangle PATTERN\")\n",
    "for i in range(1, 9):\n",
    "    for j in range(1, i + 1):\n",
    "        print(\"*\", end=\" \")\n",
    "    print()\n",
    "\n",
    "print(\"\\nInverted Triangle PATTERN\")\n",
    "for i in range(8, 0, -1):\n",
    "    for j in range(1, i + 1):\n",
    "        print(\"*\", end=\" \")\n",
    "    print()\n",
    "\n",
    "print(\"\\nPyramid (Centered Triangle) PATTERN\")\n",
    "for i in range(1, 8):\n",
    "    print(\" \" * (8 - i), end=\"\")\n",
    "    print(\"* \" * i)"
   ]
  },
  {
   "cell_type": "code",
   "execution_count": 78,
   "id": "7876b297-aa60-48c4-93a6-9bae38047f35",
   "metadata": {},
   "outputs": [
    {
     "name": "stdout",
     "output_type": "stream",
     "text": [
      "Monday : 9AM-10AM\n",
      "Monday : 10AM-11AM\n",
      "Monday : 11AM-12PM\n",
      "Tuesday : 9AM-10AM\n",
      "Tuesday : 10AM-11AM\n",
      "Tuesday : 11AM-12PM\n",
      "Wednesday : 9AM-10AM\n",
      "Wednesday : 10AM-11AM\n",
      "Wednesday : 11AM-12PM\n",
      "Thursday : 9AM-10AM\n",
      "Thursday : 10AM-11AM\n",
      "Thursday : 11AM-12PM\n",
      "Friday : 9AM-10AM\n",
      "Friday : 10AM-11AM\n",
      "Friday : 11AM-12PM\n",
      "\n",
      "\n",
      "Monday\n",
      "9AM-10AM\n",
      "10AM-11AM\n",
      "11AM-12PM\n",
      "\n",
      "Tuesday\n",
      "9AM-10AM\n",
      "10AM-11AM\n",
      "11AM-12PM\n",
      "\n",
      "Wednesday\n",
      "9AM-10AM\n",
      "10AM-11AM\n",
      "11AM-12PM\n",
      "\n",
      "Thursday\n",
      "9AM-10AM\n",
      "10AM-11AM\n",
      "11AM-12PM\n",
      "\n",
      "Friday\n",
      "9AM-10AM\n",
      "10AM-11AM\n",
      "11AM-12PM\n",
      "\n"
     ]
    }
   ],
   "source": [
    "week_days = ['Monday', 'Tuesday', 'Wednesday', 'Thursday', 'Friday']\n",
    "time_slots = ['9AM-10AM', '10AM-11AM', '11AM-12PM']\n",
    "for week_day in week_days:\n",
    "    for time_slot in time_slots:\n",
    "        print(week_day,\":\",time_slot)\n",
    "\n",
    "print(\"\\n\")\n",
    "for week_day in week_days: #outer loop\n",
    "    print(week_day)\n",
    "    for time_slot in time_slots: #inner loop\n",
    "        print(time_slot)\n",
    "    print()"
   ]
  },
  {
   "cell_type": "code",
   "execution_count": 89,
   "id": "f59f94dd-7681-4e30-810b-f7fb55a6fe54",
   "metadata": {},
   "outputs": [
    {
     "name": "stdout",
     "output_type": "stream",
     "text": [
      "Simple While Loops\n",
      "0\n",
      "1\n",
      "2\n",
      "3\n",
      "4\n",
      "5\n",
      "6\n",
      "7\n",
      "8\n",
      "9\n",
      "\n",
      "\n",
      "Monday\n",
      "Tuesday\n",
      "Wednesday\n",
      "Thursday\n",
      "Friday\n",
      "\n",
      "\n",
      "Nested While Loops\n",
      "Monday\n",
      "9AM-10AM\n",
      "10AM-11AM\n",
      "11AM-12PM\n",
      "Tuesday\n",
      "9AM-10AM\n",
      "10AM-11AM\n",
      "11AM-12PM\n",
      "Wednesday\n",
      "9AM-10AM\n",
      "10AM-11AM\n",
      "11AM-12PM\n",
      "Thursday\n",
      "9AM-10AM\n",
      "10AM-11AM\n",
      "11AM-12PM\n",
      "Friday\n",
      "9AM-10AM\n",
      "10AM-11AM\n",
      "11AM-12PM\n"
     ]
    }
   ],
   "source": [
    "# SESSION - 8 \n",
    "print(\"Simple While Loops\")\n",
    "i = 0\n",
    "while i < 10:\n",
    "    print(i)\n",
    "    i += 1\n",
    "print(\"\\n\")\n",
    "week_days = ['Monday', 'Tuesday', 'Wednesday', 'Thursday', 'Friday']\n",
    "i = 0\n",
    "\n",
    "while len(week_days) > i:\n",
    "    print(week_days[i])\n",
    "    i += 1\n",
    "print(\"\\n\")\n",
    "time_slots = ['9AM-10AM', '10AM-11AM', '11AM-12PM']\n",
    "print(\"Nested While Loops\")\n",
    "i = 0\n",
    "while len(week_days) > i:\n",
    "    print(week_days[i])\n",
    "    i += 1\n",
    "    j = 0\n",
    "    while len(time_slots) > j:\n",
    "        print(time_slots[j])\n",
    "        j += 1"
   ]
  },
  {
   "cell_type": "code",
   "execution_count": 92,
   "id": "661966b4-e403-4c68-98be-e055695fd328",
   "metadata": {},
   "outputs": [
    {
     "name": "stdout",
     "output_type": "stream",
     "text": [
      "ATM Login Code \n"
     ]
    },
    {
     "name": "stdin",
     "output_type": "stream",
     "text": [
      "Enter PIN:  1234\n"
     ]
    },
    {
     "name": "stdout",
     "output_type": "stream",
     "text": [
      "Login Successful\n",
      "\n",
      "\n",
      "Account Blocking\n"
     ]
    },
    {
     "name": "stdin",
     "output_type": "stream",
     "text": [
      "Enter password:  12456\n"
     ]
    },
    {
     "name": "stdout",
     "output_type": "stream",
     "text": [
      "Invalid Password, Try Again!\n"
     ]
    },
    {
     "name": "stdin",
     "output_type": "stream",
     "text": [
      "Enter password:  2546\n"
     ]
    },
    {
     "name": "stdout",
     "output_type": "stream",
     "text": [
      "Invalid Password, Try Again!\n"
     ]
    },
    {
     "name": "stdin",
     "output_type": "stream",
     "text": [
      "Enter password:  25463\n"
     ]
    },
    {
     "name": "stdout",
     "output_type": "stream",
     "text": [
      "Invalid Password, Try Again!\n",
      "Account blocked!\n"
     ]
    }
   ],
   "source": [
    "# SESSION - 8 Continued\n",
    "print(\"ATM Login Code \")\n",
    "#ATM PIN\n",
    "correct_pin = \"1234\"\n",
    "pin = \"\"\n",
    "\n",
    "while pin != correct_pin:\n",
    "    pin = input('Enter PIN: ')\n",
    "    if pin != correct_pin:\n",
    "        print('Invalid PIN, Try Again!')\n",
    "\n",
    "print('Login Successful')\n",
    "\n",
    "print(\"\\n\")\n",
    "print(\"Account Blocking\")\n",
    "password = 'python123'\n",
    "attempts = 0\n",
    "\n",
    "while attempts < 3:\n",
    "    guess = input('Enter password: ')\n",
    "    if guess == password:\n",
    "        print('Login Successful!')\n",
    "        break\n",
    "    else:\n",
    "        print('Invalid Password, Try Again!')\n",
    "    attempts += 1\n",
    "\n",
    "if attempts == 3:\n",
    "    print('Account blocked!')"
   ]
  },
  {
   "cell_type": "code",
   "execution_count": 100,
   "id": "5219e4d1-c13b-4b50-87d8-cdd0ee1d94a1",
   "metadata": {},
   "outputs": [
    {
     "name": "stdout",
     "output_type": "stream",
     "text": [
      "[1]\n",
      "[1, 2]\n",
      "[1, 2, 3]\n",
      "[1, 2, 3, 4]\n",
      "[1, 2, 3, 4, 5]\n",
      "[1, 2, 3, 4, 5, 6]\n",
      "[1, 2, 3, 4, 5, 6, 7]\n",
      "[1, 2, 3, 4, 5, 6, 7, 8]\n",
      "[1, 2, 3, 4, 5, 6, 7, 8, 9]\n",
      "[1, 2, 3, 4, 5, 6, 7, 8, 9, 10]\n",
      "[1, 2, 3, 4, 5, 6, 7, 8, 9, 10]\n",
      "\n",
      "\n",
      "[0, 1, 8, 27, 64, 125, 216, 343, 512, 729, 1000]\n",
      "\n",
      "\n",
      "Order ID's Completed:\n",
      " [1, 3, 8]\n"
     ]
    }
   ],
   "source": [
    "# SESSION - 8 Continued\n",
    "# LIST COMPREHENSION \n",
    "Square = []\n",
    "for i in range(1,11):\n",
    "    Square.append(i)\n",
    "    print(Square)\n",
    "print(Square)\n",
    "print(\"\\n\")\n",
    "cube = [i**3 for i in range(11)]\n",
    "print(cube)\n",
    "print(\"\\n\")\n",
    "order_id_comp = []\n",
    "Ec_Store_Orders = [\n",
    "    {\"order_id\": 1, \"customer_name\": \"Ali\", \"total_amount\": 120, \"status\": \"Completed\"},\n",
    "    {\"order_id\": 2, \"customer_name\": \"Raheel\", \"total_amount\": 80, \"status\": \"Pending\"},\n",
    "    {\"order_id\": 3, \"customer_name\": \"Saleem\", \"total_amount\": 150, \"status\": \"Completed\"},\n",
    "    {\"order_id\": 4, \"customer_name\": \"khushnoor\", \"total_amount\": 95, \"status\": \"Completed\"},\n",
    "    {\"order_id\": 5, \"customer_name\": \"Alizy\", \"total_amount\": 200, \"status\": \"Pending\"},\n",
    "    {\"order_id\": 6, \"customer_name\": \"javaid\", \"total_amount\": 85, \"status\": \"Completed\"},\n",
    "    {\"order_id\": 7, \"customer_name\": \"Talha\", \"total_amount\": 150, \"status\": \"Pending\"},\n",
    "    {\"order_id\": 8, \"customer_name\": \"Naveed\", \"total_amount\": 200, \"status\": \"Completed\"},\n",
    "]\n",
    "for order in Ec_Store_Orders:\n",
    "    if order['total_amount'] > 100 and order['status'] == 'Completed':\n",
    "        order_id_comp.append(order['order_id'])\n",
    "print(\"Order ID's Completed:\\n\",order_id_comp)"
   ]
  },
  {
   "cell_type": "markdown",
   "id": "cbae3b8e-ba89-43cf-aeb3-2593be3d0211",
   "metadata": {},
   "source": [
    "### SESSION - 9 : USER DEFINED FUNCTIONS\n",
    "### Defining a Function\n",
    "### SYNTAX:\n",
    "### def name of function():\n",
    "###          function body\n",
    "##### Example explained below"
   ]
  },
  {
   "cell_type": "code",
   "execution_count": 105,
   "id": "68a6b3a6-71b4-4f54-9a43-8a58c647e963",
   "metadata": {},
   "outputs": [
    {
     "name": "stdout",
     "output_type": "stream",
     "text": [
      "hello world\n",
      "my first func\n",
      "we are learning python\n",
      "\n",
      "\n",
      "ADD FUNCTION\n",
      "9\n",
      "\n",
      "\n",
      "Multiply1 FUNCTION\n",
      "6\n",
      "\n",
      "\n",
      "Multiply2 FUNCTION\n",
      "21\n",
      "\n",
      "\n",
      "student_info FUNCTION\n",
      "Name: Ali\n",
      "Age: 15\n",
      "Grade: 10th\n"
     ]
    }
   ],
   "source": [
    "# SESSION - 9 : USER DEFINED FUNCTIONS\n",
    "# Defining a Function\n",
    "def message(): #initialize\n",
    "    print('hello world')\n",
    "    print('my first func')\n",
    "    print('we are learning python')\n",
    "message() #run/call\n",
    "print(\"\\n\")\n",
    "def add(a,b): #parameters a,b\n",
    "    print(a+b) \n",
    "print(\"ADD FUNCTION\")\n",
    "add(4,5) # assigning 4 at the position of a and 5 at b\n",
    "print(\"\\n\")\n",
    "#Default Parameter\n",
    "def multiply1(x,y=2): #Default Parameter, but it can be changed if i want, to see difference see next function \n",
    "    print(x*y)\n",
    "print(\"Multiply1 FUNCTION\")\n",
    "multiply1(3)\n",
    "print(\"\\n\")\n",
    "def multiply2(x,y=2): #Default Parameter, but it can be changed if i want\n",
    "    print(x*y)\n",
    "print(\"Multiply2 FUNCTION\")\n",
    "multiply2(3,7)\n",
    "\n",
    "print(\"\\n\")\n",
    "# Positional Argument : def name(first, middle, last):\n",
    "def student_info(name, age, grade):\n",
    "    print(\"Name:\", name)\n",
    "    print(\"Age:\", age)\n",
    "    print(\"Grade:\", grade)\n",
    "print(\"student_info FUNCTION\")\n",
    "# Calling function using positional arguments\n",
    "student_info(\"Ali\", 15, \"10th\")"
   ]
  },
  {
   "cell_type": "code",
   "execution_count": 107,
   "id": "773b5a9b-4e94-4414-af3b-b7cf2686eb4e",
   "metadata": {},
   "outputs": [
    {
     "name": "stdout",
     "output_type": "stream",
     "text": [
      "('salt', 'ghee', 'sugar', 'rice')\n",
      "\n",
      "\n",
      "{'name': 'ali', 'age': 22, 'gender': 'male'}\n"
     ]
    }
   ],
   "source": [
    "# Arbitary number positional arguments\n",
    "# rather than defining each argument,we just write *xyz(anyname we want with *),\n",
    "# this way while calling the function we can give unlimited arguments\n",
    "def grocery(*args): \n",
    "    print(args)\n",
    "\n",
    "grocery('salt','ghee','sugar','rice') #positional arguments\n",
    "print(\"\\n\")\n",
    "#Keyword argumets\n",
    "def bio(**abc):\n",
    "    print(abc)\n",
    "\n",
    "bio(name='ali',age=22,gender='male')\n",
    "# *args → collects positional arguments → stored in a tuple\n",
    "#**kwargs → collects keyword arguments → stored in a dictionary"
   ]
  },
  {
   "cell_type": "code",
   "execution_count": null,
   "id": "c28dad14-8b4f-4f3b-8bcc-56a4b2186dc0",
   "metadata": {},
   "outputs": [],
   "source": []
  }
 ],
 "metadata": {
  "kernelspec": {
   "display_name": "Python 3 (ipykernel)",
   "language": "python",
   "name": "python3"
  },
  "language_info": {
   "codemirror_mode": {
    "name": "ipython",
    "version": 3
   },
   "file_extension": ".py",
   "mimetype": "text/x-python",
   "name": "python",
   "nbconvert_exporter": "python",
   "pygments_lexer": "ipython3",
   "version": "3.12.7"
  }
 },
 "nbformat": 4,
 "nbformat_minor": 5
}
